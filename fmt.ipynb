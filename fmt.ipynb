{
 "nbformat": 4,
 "nbformat_minor": 2,
 "metadata": {
  "language_info": {
   "name": "python",
   "codemirror_mode": {
    "name": "ipython",
    "version": 3
   },
   "version": "3.6.6-final"
  },
  "orig_nbformat": 2,
  "file_extension": ".py",
  "mimetype": "text/x-python",
  "name": "python",
  "npconvert_exporter": "python",
  "pygments_lexer": "ipython3",
  "version": 3,
  "kernelspec": {
   "name": "python36664bit366pyenv0fef8eb0ab9a48ec9e2ec6fcfa8e299c",
   "display_name": "Python 3.6.6 64-bit ('3.6.6': pyenv)"
  }
 },
 "cells": [
  {
   "cell_type": "code",
   "execution_count": 4,
   "metadata": {},
   "outputs": [],
   "source": [
    "import pandas as pd\n",
    "from os import listdir\n",
    "from os.path import isfile, join\n",
    "data_path = 'analyze/'"
   ]
  },
  {
   "cell_type": "code",
   "execution_count": 6,
   "metadata": {},
   "outputs": [],
   "source": [
    "metrics = [f for f in listdir(data_path) if isfile(join(data_path, f))]"
   ]
  },
  {
   "cell_type": "code",
   "execution_count": 11,
   "metadata": {},
   "outputs": [],
   "source": [
    "mm = pd.DataFrame()\n",
    "for m in metrics:\n",
    "    mm = mm.append(\n",
    "        pd.read_csv(data_path+m)\n",
    "    )"
   ]
  },
  {
   "cell_type": "code",
   "execution_count": 12,
   "metadata": {},
   "outputs": [
    {
     "output_type": "execute_result",
     "data": {
      "text/plain": "   mean_ndcg10  std_ndcg10  mean_ndcg  std_ndcg  mean_map  std_map  \\\n0      0.20582     0.03502    0.14605   0.02410   0.39803  0.03174   \n0      0.55034     0.03831    0.56561   0.02786   4.67539  0.45136   \n0      0.53923     0.09909    0.33316   0.04008   1.57649  0.07641   \n0      0.53923     0.09909    0.54047   0.04318   4.70469  0.44711   \n\n          name  \n0  avg_cos_10_  \n0  avg_cos_20_  \n0  low_cos_10_  \n0  low_cos_20_  ",
      "text/html": "<div>\n<style scoped>\n    .dataframe tbody tr th:only-of-type {\n        vertical-align: middle;\n    }\n\n    .dataframe tbody tr th {\n        vertical-align: top;\n    }\n\n    .dataframe thead th {\n        text-align: right;\n    }\n</style>\n<table border=\"1\" class=\"dataframe\">\n  <thead>\n    <tr style=\"text-align: right;\">\n      <th></th>\n      <th>mean_ndcg10</th>\n      <th>std_ndcg10</th>\n      <th>mean_ndcg</th>\n      <th>std_ndcg</th>\n      <th>mean_map</th>\n      <th>std_map</th>\n      <th>name</th>\n    </tr>\n  </thead>\n  <tbody>\n    <tr>\n      <th>0</th>\n      <td>0.20582</td>\n      <td>0.03502</td>\n      <td>0.14605</td>\n      <td>0.02410</td>\n      <td>0.39803</td>\n      <td>0.03174</td>\n      <td>avg_cos_10_</td>\n    </tr>\n    <tr>\n      <th>0</th>\n      <td>0.55034</td>\n      <td>0.03831</td>\n      <td>0.56561</td>\n      <td>0.02786</td>\n      <td>4.67539</td>\n      <td>0.45136</td>\n      <td>avg_cos_20_</td>\n    </tr>\n    <tr>\n      <th>0</th>\n      <td>0.53923</td>\n      <td>0.09909</td>\n      <td>0.33316</td>\n      <td>0.04008</td>\n      <td>1.57649</td>\n      <td>0.07641</td>\n      <td>low_cos_10_</td>\n    </tr>\n    <tr>\n      <th>0</th>\n      <td>0.53923</td>\n      <td>0.09909</td>\n      <td>0.54047</td>\n      <td>0.04318</td>\n      <td>4.70469</td>\n      <td>0.44711</td>\n      <td>low_cos_20_</td>\n    </tr>\n  </tbody>\n</table>\n</div>"
     },
     "metadata": {},
     "execution_count": 12
    }
   ],
   "source": [
    "mm"
   ]
  }
 ]
}