{
 "nbformat": 4,
 "nbformat_minor": 2,
 "metadata": {
  "language_info": {
   "name": "python",
   "codemirror_mode": {
    "name": "ipython",
    "version": 3
   },
   "version": "3.6.6-final"
  },
  "orig_nbformat": 2,
  "file_extension": ".py",
  "mimetype": "text/x-python",
  "name": "python",
  "npconvert_exporter": "python",
  "pygments_lexer": "ipython3",
  "version": 3,
  "kernelspec": {
   "name": "python36664bit366pyenv0fef8eb0ab9a48ec9e2ec6fcfa8e299c",
   "display_name": "Python 3.6.6 64-bit ('3.6.6': pyenv)"
  }
 },
 "cells": [
  {
   "cell_type": "code",
   "execution_count": 32,
   "metadata": {},
   "outputs": [],
   "source": [
    "import pandas as pd\n",
    "import numpy as np\n",
    "import matplotlib.pyplot as plt"
   ]
  },
  {
   "cell_type": "code",
   "execution_count": 15,
   "metadata": {},
   "outputs": [
    {
     "output_type": "display_data",
     "data": {
      "text/plain": "<Figure size 432x288 with 1 Axes>",
      "image/svg+xml": "<?xml version=\"1.0\" encoding=\"utf-8\" standalone=\"no\"?>\n<!DOCTYPE svg PUBLIC \"-//W3C//DTD SVG 1.1//EN\"\n  \"http://www.w3.org/Graphics/SVG/1.1/DTD/svg11.dtd\">\n<!-- Created with matplotlib (https://matplotlib.org/) -->\n<svg height=\"271.25875pt\" version=\"1.1\" viewBox=\"0 0 416.056875 271.25875\" width=\"416.056875pt\" xmlns=\"http://www.w3.org/2000/svg\" xmlns:xlink=\"http://www.w3.org/1999/xlink\">\n <defs>\n  <style type=\"text/css\">\n*{stroke-linecap:butt;stroke-linejoin:round;}\n  </style>\n </defs>\n <g id=\"figure_1\">\n  <g id=\"patch_1\">\n   <path d=\"M 0 271.25875 \nL 416.056875 271.25875 \nL 416.056875 0 \nL 0 0 \nz\n\" style=\"fill:none;\"/>\n  </g>\n  <g id=\"axes_1\">\n   <g id=\"patch_2\">\n    <path d=\"M 58.471875 225.96 \nL 408.856875 225.96 \nL 408.856875 7.2 \nL 58.471875 7.2 \nz\n\" style=\"fill:#ffffff;\"/>\n   </g>\n   <g id=\"patch_3\">\n    <path clip-path=\"url(#p3947830e61)\" d=\"M 74.398466 225.96 \nL 106.251648 225.96 \nL 106.251648 219.74081 \nL 74.398466 219.74081 \nz\n\" style=\"fill:#1f77b4;\"/>\n   </g>\n   <g id=\"patch_4\">\n    <path clip-path=\"url(#p3947830e61)\" d=\"M 106.251648 225.96 \nL 138.10483 225.96 \nL 138.10483 217.479287 \nL 106.251648 217.479287 \nz\n\" style=\"fill:#1f77b4;\"/>\n   </g>\n   <g id=\"patch_5\">\n    <path clip-path=\"url(#p3947830e61)\" d=\"M 138.10483 225.96 \nL 169.958011 225.96 \nL 169.958011 201.648622 \nL 138.10483 201.648622 \nz\n\" style=\"fill:#1f77b4;\"/>\n   </g>\n   <g id=\"patch_6\">\n    <path clip-path=\"url(#p3947830e61)\" d=\"M 169.958011 225.96 \nL 201.811193 225.96 \nL 201.811193 122.495298 \nL 169.958011 122.495298 \nz\n\" style=\"fill:#1f77b4;\"/>\n   </g>\n   <g id=\"patch_7\">\n    <path clip-path=\"url(#p3947830e61)\" d=\"M 201.811193 225.96 \nL 233.664375 225.96 \nL 233.664375 116.841489 \nL 201.811193 116.841489 \nz\n\" style=\"fill:#1f77b4;\"/>\n   </g>\n   <g id=\"patch_8\">\n    <path clip-path=\"url(#p3947830e61)\" d=\"M 233.664375 225.96 \nL 265.517557 225.96 \nL 265.517557 61.716852 \nL 233.664375 61.716852 \nz\n\" style=\"fill:#1f77b4;\"/>\n   </g>\n   <g id=\"patch_9\">\n    <path clip-path=\"url(#p3947830e61)\" d=\"M 265.517557 225.96 \nL 297.370739 225.96 \nL 297.370739 17.617143 \nL 265.517557 17.617143 \nz\n\" style=\"fill:#1f77b4;\"/>\n   </g>\n   <g id=\"patch_10\">\n    <path clip-path=\"url(#p3947830e61)\" d=\"M 297.370739 225.96 \nL 329.22392 225.96 \nL 329.22392 106.947323 \nL 297.370739 106.947323 \nz\n\" style=\"fill:#1f77b4;\"/>\n   </g>\n   <g id=\"patch_11\">\n    <path clip-path=\"url(#p3947830e61)\" d=\"M 329.22392 225.96 \nL 361.077102 225.96 \nL 361.077102 82.353255 \nL 329.22392 82.353255 \nz\n\" style=\"fill:#1f77b4;\"/>\n   </g>\n   <g id=\"patch_12\">\n    <path clip-path=\"url(#p3947830e61)\" d=\"M 361.077102 225.96 \nL 392.930284 225.96 \nL 392.930284 97.901229 \nL 361.077102 97.901229 \nz\n\" style=\"fill:#1f77b4;\"/>\n   </g>\n   <g id=\"matplotlib.axis_1\">\n    <g id=\"xtick_1\">\n     <g id=\"line2d_1\">\n      <defs>\n       <path d=\"M 0 0 \nL 0 3.5 \n\" id=\"mc0f90aca7e\" style=\"stroke:#000000;stroke-width:0.8;\"/>\n      </defs>\n      <g>\n       <use style=\"stroke:#000000;stroke-width:0.8;\" x=\"103.355904\" xlink:href=\"#mc0f90aca7e\" y=\"225.96\"/>\n      </g>\n     </g>\n     <g id=\"text_1\">\n      <!-- 2.0 -->\n      <defs>\n       <path d=\"M 19.1875 8.296875 \nL 53.609375 8.296875 \nL 53.609375 0 \nL 7.328125 0 \nL 7.328125 8.296875 \nQ 12.9375 14.109375 22.625 23.890625 \nQ 32.328125 33.6875 34.8125 36.53125 \nQ 39.546875 41.84375 41.421875 45.53125 \nQ 43.3125 49.21875 43.3125 52.78125 \nQ 43.3125 58.59375 39.234375 62.25 \nQ 35.15625 65.921875 28.609375 65.921875 \nQ 23.96875 65.921875 18.8125 64.3125 \nQ 13.671875 62.703125 7.8125 59.421875 \nL 7.8125 69.390625 \nQ 13.765625 71.78125 18.9375 73 \nQ 24.125 74.21875 28.421875 74.21875 \nQ 39.75 74.21875 46.484375 68.546875 \nQ 53.21875 62.890625 53.21875 53.421875 \nQ 53.21875 48.921875 51.53125 44.890625 \nQ 49.859375 40.875 45.40625 35.40625 \nQ 44.1875 33.984375 37.640625 27.21875 \nQ 31.109375 20.453125 19.1875 8.296875 \nz\n\" id=\"DejaVuSans-50\"/>\n       <path d=\"M 10.6875 12.40625 \nL 21 12.40625 \nL 21 0 \nL 10.6875 0 \nz\n\" id=\"DejaVuSans-46\"/>\n       <path d=\"M 31.78125 66.40625 \nQ 24.171875 66.40625 20.328125 58.90625 \nQ 16.5 51.421875 16.5 36.375 \nQ 16.5 21.390625 20.328125 13.890625 \nQ 24.171875 6.390625 31.78125 6.390625 \nQ 39.453125 6.390625 43.28125 13.890625 \nQ 47.125 21.390625 47.125 36.375 \nQ 47.125 51.421875 43.28125 58.90625 \nQ 39.453125 66.40625 31.78125 66.40625 \nz\nM 31.78125 74.21875 \nQ 44.046875 74.21875 50.515625 64.515625 \nQ 56.984375 54.828125 56.984375 36.375 \nQ 56.984375 17.96875 50.515625 8.265625 \nQ 44.046875 -1.421875 31.78125 -1.421875 \nQ 19.53125 -1.421875 13.0625 8.265625 \nQ 6.59375 17.96875 6.59375 36.375 \nQ 6.59375 54.828125 13.0625 64.515625 \nQ 19.53125 74.21875 31.78125 74.21875 \nz\n\" id=\"DejaVuSans-48\"/>\n      </defs>\n      <g transform=\"translate(92.223716 243.597812)scale(0.14 -0.14)\">\n       <use xlink:href=\"#DejaVuSans-50\"/>\n       <use x=\"63.623047\" xlink:href=\"#DejaVuSans-46\"/>\n       <use x=\"95.410156\" xlink:href=\"#DejaVuSans-48\"/>\n      </g>\n     </g>\n    </g>\n    <g id=\"xtick_2\">\n     <g id=\"line2d_2\">\n      <g>\n       <use style=\"stroke:#000000;stroke-width:0.8;\" x=\"151.618301\" xlink:href=\"#mc0f90aca7e\" y=\"225.96\"/>\n      </g>\n     </g>\n     <g id=\"text_2\">\n      <!-- 2.5 -->\n      <defs>\n       <path d=\"M 10.796875 72.90625 \nL 49.515625 72.90625 \nL 49.515625 64.59375 \nL 19.828125 64.59375 \nL 19.828125 46.734375 \nQ 21.96875 47.46875 24.109375 47.828125 \nQ 26.265625 48.1875 28.421875 48.1875 \nQ 40.625 48.1875 47.75 41.5 \nQ 54.890625 34.8125 54.890625 23.390625 \nQ 54.890625 11.625 47.5625 5.09375 \nQ 40.234375 -1.421875 26.90625 -1.421875 \nQ 22.3125 -1.421875 17.546875 -0.640625 \nQ 12.796875 0.140625 7.71875 1.703125 \nL 7.71875 11.625 \nQ 12.109375 9.234375 16.796875 8.0625 \nQ 21.484375 6.890625 26.703125 6.890625 \nQ 35.15625 6.890625 40.078125 11.328125 \nQ 45.015625 15.765625 45.015625 23.390625 \nQ 45.015625 31 40.078125 35.4375 \nQ 35.15625 39.890625 26.703125 39.890625 \nQ 22.75 39.890625 18.8125 39.015625 \nQ 14.890625 38.140625 10.796875 36.28125 \nz\n\" id=\"DejaVuSans-53\"/>\n      </defs>\n      <g transform=\"translate(140.486113 243.597812)scale(0.14 -0.14)\">\n       <use xlink:href=\"#DejaVuSans-50\"/>\n       <use x=\"63.623047\" xlink:href=\"#DejaVuSans-46\"/>\n       <use x=\"95.410156\" xlink:href=\"#DejaVuSans-53\"/>\n      </g>\n     </g>\n    </g>\n    <g id=\"xtick_3\">\n     <g id=\"line2d_3\">\n      <g>\n       <use style=\"stroke:#000000;stroke-width:0.8;\" x=\"199.880697\" xlink:href=\"#mc0f90aca7e\" y=\"225.96\"/>\n      </g>\n     </g>\n     <g id=\"text_3\">\n      <!-- 3.0 -->\n      <defs>\n       <path d=\"M 40.578125 39.3125 \nQ 47.65625 37.796875 51.625 33 \nQ 55.609375 28.21875 55.609375 21.1875 \nQ 55.609375 10.40625 48.1875 4.484375 \nQ 40.765625 -1.421875 27.09375 -1.421875 \nQ 22.515625 -1.421875 17.65625 -0.515625 \nQ 12.796875 0.390625 7.625 2.203125 \nL 7.625 11.71875 \nQ 11.71875 9.328125 16.59375 8.109375 \nQ 21.484375 6.890625 26.8125 6.890625 \nQ 36.078125 6.890625 40.9375 10.546875 \nQ 45.796875 14.203125 45.796875 21.1875 \nQ 45.796875 27.640625 41.28125 31.265625 \nQ 36.765625 34.90625 28.71875 34.90625 \nL 20.21875 34.90625 \nL 20.21875 43.015625 \nL 29.109375 43.015625 \nQ 36.375 43.015625 40.234375 45.921875 \nQ 44.09375 48.828125 44.09375 54.296875 \nQ 44.09375 59.90625 40.109375 62.90625 \nQ 36.140625 65.921875 28.71875 65.921875 \nQ 24.65625 65.921875 20.015625 65.03125 \nQ 15.375 64.15625 9.8125 62.3125 \nL 9.8125 71.09375 \nQ 15.4375 72.65625 20.34375 73.4375 \nQ 25.25 74.21875 29.59375 74.21875 \nQ 40.828125 74.21875 47.359375 69.109375 \nQ 53.90625 64.015625 53.90625 55.328125 \nQ 53.90625 49.265625 50.4375 45.09375 \nQ 46.96875 40.921875 40.578125 39.3125 \nz\n\" id=\"DejaVuSans-51\"/>\n      </defs>\n      <g transform=\"translate(188.74851 243.597812)scale(0.14 -0.14)\">\n       <use xlink:href=\"#DejaVuSans-51\"/>\n       <use x=\"63.623047\" xlink:href=\"#DejaVuSans-46\"/>\n       <use x=\"95.410156\" xlink:href=\"#DejaVuSans-48\"/>\n      </g>\n     </g>\n    </g>\n    <g id=\"xtick_4\">\n     <g id=\"line2d_4\">\n      <g>\n       <use style=\"stroke:#000000;stroke-width:0.8;\" x=\"248.143094\" xlink:href=\"#mc0f90aca7e\" y=\"225.96\"/>\n      </g>\n     </g>\n     <g id=\"text_4\">\n      <!-- 3.5 -->\n      <g transform=\"translate(237.010907 243.597812)scale(0.14 -0.14)\">\n       <use xlink:href=\"#DejaVuSans-51\"/>\n       <use x=\"63.623047\" xlink:href=\"#DejaVuSans-46\"/>\n       <use x=\"95.410156\" xlink:href=\"#DejaVuSans-53\"/>\n      </g>\n     </g>\n    </g>\n    <g id=\"xtick_5\">\n     <g id=\"line2d_5\">\n      <g>\n       <use style=\"stroke:#000000;stroke-width:0.8;\" x=\"296.405491\" xlink:href=\"#mc0f90aca7e\" y=\"225.96\"/>\n      </g>\n     </g>\n     <g id=\"text_5\">\n      <!-- 4.0 -->\n      <defs>\n       <path d=\"M 37.796875 64.3125 \nL 12.890625 25.390625 \nL 37.796875 25.390625 \nz\nM 35.203125 72.90625 \nL 47.609375 72.90625 \nL 47.609375 25.390625 \nL 58.015625 25.390625 \nL 58.015625 17.1875 \nL 47.609375 17.1875 \nL 47.609375 0 \nL 37.796875 0 \nL 37.796875 17.1875 \nL 4.890625 17.1875 \nL 4.890625 26.703125 \nz\n\" id=\"DejaVuSans-52\"/>\n      </defs>\n      <g transform=\"translate(285.273303 243.597812)scale(0.14 -0.14)\">\n       <use xlink:href=\"#DejaVuSans-52\"/>\n       <use x=\"63.623047\" xlink:href=\"#DejaVuSans-46\"/>\n       <use x=\"95.410156\" xlink:href=\"#DejaVuSans-48\"/>\n      </g>\n     </g>\n    </g>\n    <g id=\"xtick_6\">\n     <g id=\"line2d_6\">\n      <g>\n       <use style=\"stroke:#000000;stroke-width:0.8;\" x=\"344.667887\" xlink:href=\"#mc0f90aca7e\" y=\"225.96\"/>\n      </g>\n     </g>\n     <g id=\"text_6\">\n      <!-- 4.5 -->\n      <g transform=\"translate(333.5357 243.597812)scale(0.14 -0.14)\">\n       <use xlink:href=\"#DejaVuSans-52\"/>\n       <use x=\"63.623047\" xlink:href=\"#DejaVuSans-46\"/>\n       <use x=\"95.410156\" xlink:href=\"#DejaVuSans-53\"/>\n      </g>\n     </g>\n    </g>\n    <g id=\"xtick_7\">\n     <g id=\"line2d_7\">\n      <g>\n       <use style=\"stroke:#000000;stroke-width:0.8;\" x=\"392.930284\" xlink:href=\"#mc0f90aca7e\" y=\"225.96\"/>\n      </g>\n     </g>\n     <g id=\"text_7\">\n      <!-- 5.0 -->\n      <g transform=\"translate(381.798097 243.597812)scale(0.14 -0.14)\">\n       <use xlink:href=\"#DejaVuSans-53\"/>\n       <use x=\"63.623047\" xlink:href=\"#DejaVuSans-46\"/>\n       <use x=\"95.410156\" xlink:href=\"#DejaVuSans-48\"/>\n      </g>\n     </g>\n    </g>\n    <g id=\"text_8\">\n     <!-- stars -->\n     <defs>\n      <path d=\"M 44.28125 53.078125 \nL 44.28125 44.578125 \nQ 40.484375 46.53125 36.375 47.5 \nQ 32.28125 48.484375 27.875 48.484375 \nQ 21.1875 48.484375 17.84375 46.4375 \nQ 14.5 44.390625 14.5 40.28125 \nQ 14.5 37.15625 16.890625 35.375 \nQ 19.28125 33.59375 26.515625 31.984375 \nL 29.59375 31.296875 \nQ 39.15625 29.25 43.1875 25.515625 \nQ 47.21875 21.78125 47.21875 15.09375 \nQ 47.21875 7.46875 41.1875 3.015625 \nQ 35.15625 -1.421875 24.609375 -1.421875 \nQ 20.21875 -1.421875 15.453125 -0.5625 \nQ 10.6875 0.296875 5.421875 2 \nL 5.421875 11.28125 \nQ 10.40625 8.6875 15.234375 7.390625 \nQ 20.0625 6.109375 24.8125 6.109375 \nQ 31.15625 6.109375 34.5625 8.28125 \nQ 37.984375 10.453125 37.984375 14.40625 \nQ 37.984375 18.0625 35.515625 20.015625 \nQ 33.0625 21.96875 24.703125 23.78125 \nL 21.578125 24.515625 \nQ 13.234375 26.265625 9.515625 29.90625 \nQ 5.8125 33.546875 5.8125 39.890625 \nQ 5.8125 47.609375 11.28125 51.796875 \nQ 16.75 56 26.8125 56 \nQ 31.78125 56 36.171875 55.265625 \nQ 40.578125 54.546875 44.28125 53.078125 \nz\n\" id=\"DejaVuSans-115\"/>\n      <path d=\"M 18.3125 70.21875 \nL 18.3125 54.6875 \nL 36.8125 54.6875 \nL 36.8125 47.703125 \nL 18.3125 47.703125 \nL 18.3125 18.015625 \nQ 18.3125 11.328125 20.140625 9.421875 \nQ 21.96875 7.515625 27.59375 7.515625 \nL 36.8125 7.515625 \nL 36.8125 0 \nL 27.59375 0 \nQ 17.1875 0 13.234375 3.875 \nQ 9.28125 7.765625 9.28125 18.015625 \nL 9.28125 47.703125 \nL 2.6875 47.703125 \nL 2.6875 54.6875 \nL 9.28125 54.6875 \nL 9.28125 70.21875 \nz\n\" id=\"DejaVuSans-116\"/>\n      <path d=\"M 34.28125 27.484375 \nQ 23.390625 27.484375 19.1875 25 \nQ 14.984375 22.515625 14.984375 16.5 \nQ 14.984375 11.71875 18.140625 8.90625 \nQ 21.296875 6.109375 26.703125 6.109375 \nQ 34.1875 6.109375 38.703125 11.40625 \nQ 43.21875 16.703125 43.21875 25.484375 \nL 43.21875 27.484375 \nz\nM 52.203125 31.203125 \nL 52.203125 0 \nL 43.21875 0 \nL 43.21875 8.296875 \nQ 40.140625 3.328125 35.546875 0.953125 \nQ 30.953125 -1.421875 24.3125 -1.421875 \nQ 15.921875 -1.421875 10.953125 3.296875 \nQ 6 8.015625 6 15.921875 \nQ 6 25.140625 12.171875 29.828125 \nQ 18.359375 34.515625 30.609375 34.515625 \nL 43.21875 34.515625 \nL 43.21875 35.40625 \nQ 43.21875 41.609375 39.140625 45 \nQ 35.0625 48.390625 27.6875 48.390625 \nQ 23 48.390625 18.546875 47.265625 \nQ 14.109375 46.140625 10.015625 43.890625 \nL 10.015625 52.203125 \nQ 14.9375 54.109375 19.578125 55.046875 \nQ 24.21875 56 28.609375 56 \nQ 40.484375 56 46.34375 49.84375 \nQ 52.203125 43.703125 52.203125 31.203125 \nz\n\" id=\"DejaVuSans-97\"/>\n      <path d=\"M 41.109375 46.296875 \nQ 39.59375 47.171875 37.8125 47.578125 \nQ 36.03125 48 33.890625 48 \nQ 26.265625 48 22.1875 43.046875 \nQ 18.109375 38.09375 18.109375 28.8125 \nL 18.109375 0 \nL 9.078125 0 \nL 9.078125 54.6875 \nL 18.109375 54.6875 \nL 18.109375 46.1875 \nQ 20.953125 51.171875 25.484375 53.578125 \nQ 30.03125 56 36.53125 56 \nQ 37.453125 56 38.578125 55.875 \nQ 39.703125 55.765625 41.0625 55.515625 \nz\n\" id=\"DejaVuSans-114\"/>\n     </defs>\n     <g transform=\"translate(216.459687 261.147187)scale(0.14 -0.14)\">\n      <use xlink:href=\"#DejaVuSans-115\"/>\n      <use x=\"52.099609\" xlink:href=\"#DejaVuSans-116\"/>\n      <use x=\"91.308594\" xlink:href=\"#DejaVuSans-97\"/>\n      <use x=\"152.587891\" xlink:href=\"#DejaVuSans-114\"/>\n      <use x=\"193.701172\" xlink:href=\"#DejaVuSans-115\"/>\n     </g>\n    </g>\n   </g>\n   <g id=\"matplotlib.axis_2\">\n    <g id=\"ytick_1\">\n     <g id=\"line2d_8\">\n      <defs>\n       <path d=\"M 0 0 \nL -3.5 0 \n\" id=\"m42a46f211c\" style=\"stroke:#000000;stroke-width:0.8;\"/>\n      </defs>\n      <g>\n       <use style=\"stroke:#000000;stroke-width:0.8;\" x=\"58.471875\" xlink:href=\"#m42a46f211c\" y=\"225.96\"/>\n      </g>\n     </g>\n     <g id=\"text_9\">\n      <!-- 0 -->\n      <g transform=\"translate(42.564375 231.278906)scale(0.14 -0.14)\">\n       <use xlink:href=\"#DejaVuSans-48\"/>\n      </g>\n     </g>\n    </g>\n    <g id=\"ytick_2\">\n     <g id=\"line2d_9\">\n      <g>\n       <use style=\"stroke:#000000;stroke-width:0.8;\" x=\"58.471875\" xlink:href=\"#m42a46f211c\" y=\"169.421911\"/>\n      </g>\n     </g>\n     <g id=\"text_10\">\n      <!-- 200 -->\n      <g transform=\"translate(24.749375 174.740817)scale(0.14 -0.14)\">\n       <use xlink:href=\"#DejaVuSans-50\"/>\n       <use x=\"63.623047\" xlink:href=\"#DejaVuSans-48\"/>\n       <use x=\"127.246094\" xlink:href=\"#DejaVuSans-48\"/>\n      </g>\n     </g>\n    </g>\n    <g id=\"ytick_3\">\n     <g id=\"line2d_10\">\n      <g>\n       <use style=\"stroke:#000000;stroke-width:0.8;\" x=\"58.471875\" xlink:href=\"#m42a46f211c\" y=\"112.883822\"/>\n      </g>\n     </g>\n     <g id=\"text_11\">\n      <!-- 400 -->\n      <g transform=\"translate(24.749375 118.202729)scale(0.14 -0.14)\">\n       <use xlink:href=\"#DejaVuSans-52\"/>\n       <use x=\"63.623047\" xlink:href=\"#DejaVuSans-48\"/>\n       <use x=\"127.246094\" xlink:href=\"#DejaVuSans-48\"/>\n      </g>\n     </g>\n    </g>\n    <g id=\"ytick_4\">\n     <g id=\"line2d_11\">\n      <g>\n       <use style=\"stroke:#000000;stroke-width:0.8;\" x=\"58.471875\" xlink:href=\"#m42a46f211c\" y=\"56.345734\"/>\n      </g>\n     </g>\n     <g id=\"text_12\">\n      <!-- 600 -->\n      <defs>\n       <path d=\"M 33.015625 40.375 \nQ 26.375 40.375 22.484375 35.828125 \nQ 18.609375 31.296875 18.609375 23.390625 \nQ 18.609375 15.53125 22.484375 10.953125 \nQ 26.375 6.390625 33.015625 6.390625 \nQ 39.65625 6.390625 43.53125 10.953125 \nQ 47.40625 15.53125 47.40625 23.390625 \nQ 47.40625 31.296875 43.53125 35.828125 \nQ 39.65625 40.375 33.015625 40.375 \nz\nM 52.59375 71.296875 \nL 52.59375 62.3125 \nQ 48.875 64.0625 45.09375 64.984375 \nQ 41.3125 65.921875 37.59375 65.921875 \nQ 27.828125 65.921875 22.671875 59.328125 \nQ 17.53125 52.734375 16.796875 39.40625 \nQ 19.671875 43.65625 24.015625 45.921875 \nQ 28.375 48.1875 33.59375 48.1875 \nQ 44.578125 48.1875 50.953125 41.515625 \nQ 57.328125 34.859375 57.328125 23.390625 \nQ 57.328125 12.15625 50.6875 5.359375 \nQ 44.046875 -1.421875 33.015625 -1.421875 \nQ 20.359375 -1.421875 13.671875 8.265625 \nQ 6.984375 17.96875 6.984375 36.375 \nQ 6.984375 53.65625 15.1875 63.9375 \nQ 23.390625 74.21875 37.203125 74.21875 \nQ 40.921875 74.21875 44.703125 73.484375 \nQ 48.484375 72.75 52.59375 71.296875 \nz\n\" id=\"DejaVuSans-54\"/>\n      </defs>\n      <g transform=\"translate(24.749375 61.66464)scale(0.14 -0.14)\">\n       <use xlink:href=\"#DejaVuSans-54\"/>\n       <use x=\"63.623047\" xlink:href=\"#DejaVuSans-48\"/>\n       <use x=\"127.246094\" xlink:href=\"#DejaVuSans-48\"/>\n      </g>\n     </g>\n    </g>\n    <g id=\"text_13\">\n     <!-- # routes -->\n     <defs>\n      <path d=\"M 51.125 44 \nL 36.921875 44 \nL 32.8125 27.6875 \nL 47.125 27.6875 \nz\nM 43.796875 71.78125 \nL 38.71875 51.515625 \nL 52.984375 51.515625 \nL 58.109375 71.78125 \nL 65.921875 71.78125 \nL 60.890625 51.515625 \nL 76.125 51.515625 \nL 76.125 44 \nL 58.984375 44 \nL 54.984375 27.6875 \nL 70.515625 27.6875 \nL 70.515625 20.21875 \nL 53.078125 20.21875 \nL 48 0 \nL 40.1875 0 \nL 45.21875 20.21875 \nL 30.90625 20.21875 \nL 25.875 0 \nL 18.015625 0 \nL 23.09375 20.21875 \nL 7.71875 20.21875 \nL 7.71875 27.6875 \nL 24.90625 27.6875 \nL 29 44 \nL 13.28125 44 \nL 13.28125 51.515625 \nL 30.90625 51.515625 \nL 35.890625 71.78125 \nz\n\" id=\"DejaVuSans-35\"/>\n      <path id=\"DejaVuSans-32\"/>\n      <path d=\"M 30.609375 48.390625 \nQ 23.390625 48.390625 19.1875 42.75 \nQ 14.984375 37.109375 14.984375 27.296875 \nQ 14.984375 17.484375 19.15625 11.84375 \nQ 23.34375 6.203125 30.609375 6.203125 \nQ 37.796875 6.203125 41.984375 11.859375 \nQ 46.1875 17.53125 46.1875 27.296875 \nQ 46.1875 37.015625 41.984375 42.703125 \nQ 37.796875 48.390625 30.609375 48.390625 \nz\nM 30.609375 56 \nQ 42.328125 56 49.015625 48.375 \nQ 55.71875 40.765625 55.71875 27.296875 \nQ 55.71875 13.875 49.015625 6.21875 \nQ 42.328125 -1.421875 30.609375 -1.421875 \nQ 18.84375 -1.421875 12.171875 6.21875 \nQ 5.515625 13.875 5.515625 27.296875 \nQ 5.515625 40.765625 12.171875 48.375 \nQ 18.84375 56 30.609375 56 \nz\n\" id=\"DejaVuSans-111\"/>\n      <path d=\"M 8.5 21.578125 \nL 8.5 54.6875 \nL 17.484375 54.6875 \nL 17.484375 21.921875 \nQ 17.484375 14.15625 20.5 10.265625 \nQ 23.53125 6.390625 29.59375 6.390625 \nQ 36.859375 6.390625 41.078125 11.03125 \nQ 45.3125 15.671875 45.3125 23.6875 \nL 45.3125 54.6875 \nL 54.296875 54.6875 \nL 54.296875 0 \nL 45.3125 0 \nL 45.3125 8.40625 \nQ 42.046875 3.421875 37.71875 1 \nQ 33.40625 -1.421875 27.6875 -1.421875 \nQ 18.265625 -1.421875 13.375 4.4375 \nQ 8.5 10.296875 8.5 21.578125 \nz\nM 31.109375 56 \nz\n\" id=\"DejaVuSans-117\"/>\n      <path d=\"M 56.203125 29.59375 \nL 56.203125 25.203125 \nL 14.890625 25.203125 \nQ 15.484375 15.921875 20.484375 11.0625 \nQ 25.484375 6.203125 34.421875 6.203125 \nQ 39.59375 6.203125 44.453125 7.46875 \nQ 49.3125 8.734375 54.109375 11.28125 \nL 54.109375 2.78125 \nQ 49.265625 0.734375 44.1875 -0.34375 \nQ 39.109375 -1.421875 33.890625 -1.421875 \nQ 20.796875 -1.421875 13.15625 6.1875 \nQ 5.515625 13.8125 5.515625 26.8125 \nQ 5.515625 40.234375 12.765625 48.109375 \nQ 20.015625 56 32.328125 56 \nQ 43.359375 56 49.78125 48.890625 \nQ 56.203125 41.796875 56.203125 29.59375 \nz\nM 47.21875 32.234375 \nQ 47.125 39.59375 43.09375 43.984375 \nQ 39.0625 48.390625 32.421875 48.390625 \nQ 24.90625 48.390625 20.390625 44.140625 \nQ 15.875 39.890625 15.1875 32.171875 \nz\n\" id=\"DejaVuSans-101\"/>\n     </defs>\n     <g transform=\"translate(17.837813 146.807969)rotate(-90)scale(0.14 -0.14)\">\n      <use xlink:href=\"#DejaVuSans-35\"/>\n      <use x=\"83.789062\" xlink:href=\"#DejaVuSans-32\"/>\n      <use x=\"115.576172\" xlink:href=\"#DejaVuSans-114\"/>\n      <use x=\"154.439453\" xlink:href=\"#DejaVuSans-111\"/>\n      <use x=\"215.621094\" xlink:href=\"#DejaVuSans-117\"/>\n      <use x=\"279\" xlink:href=\"#DejaVuSans-116\"/>\n      <use x=\"318.208984\" xlink:href=\"#DejaVuSans-101\"/>\n      <use x=\"379.732422\" xlink:href=\"#DejaVuSans-115\"/>\n     </g>\n    </g>\n   </g>\n   <g id=\"patch_13\">\n    <path d=\"M 58.471875 225.96 \nL 58.471875 7.2 \n\" style=\"fill:none;stroke:#000000;stroke-linecap:square;stroke-linejoin:miter;stroke-width:0.8;\"/>\n   </g>\n   <g id=\"patch_14\">\n    <path d=\"M 58.471875 225.96 \nL 408.856875 225.96 \n\" style=\"fill:none;stroke:#000000;stroke-linecap:square;stroke-linejoin:miter;stroke-width:0.8;\"/>\n   </g>\n  </g>\n </g>\n <defs>\n  <clipPath id=\"p3947830e61\">\n   <rect height=\"218.76\" width=\"350.385\" x=\"58.471875\" y=\"7.2\"/>\n  </clipPath>\n </defs>\n</svg>\n",
      "image/png": "[encoded data removed]"
     },
     "metadata": {
      "needs_background": "light"
     }
    }
   ],
   "source": [
    "plt.rc('font', size=14)  \n",
    "rf = pd.read_csv('./data/route_data.csv')\n",
    "ax = rf['stars'].hist()\n",
    "ax.spines['right'].set_visible(False)\n",
    "ax.spines['top'].set_visible(False)\n",
    "ax.grid(False)\n",
    "ax.set_xlabel('stars')\n",
    "ax.set_ylabel('# routes')\n",
    "plt.tight_layout()\n",
    "plt.savefig('analyze/route_star_freq.png')"
   ]
  },
  {
   "cell_type": "code",
   "execution_count": 14,
   "metadata": {},
   "outputs": [
    {
     "output_type": "display_data",
     "data": {
      "text/plain": "<Figure size 432x288 with 1 Axes>",
      "image/svg+xml": "<?xml version=\"1.0\" encoding=\"utf-8\" standalone=\"no\"?>\n<!DOCTYPE svg PUBLIC \"-//W3C//DTD SVG 1.1//EN\"\n  \"http://www.w3.org/Graphics/SVG/1.1/DTD/svg11.dtd\">\n<!-- Created with matplotlib (https://matplotlib.org/) -->\n<svg height=\"271.165595pt\" version=\"1.1\" viewBox=\"0 0 423.24909 271.165595\" width=\"423.24909pt\" xmlns=\"http://www.w3.org/2000/svg\" xmlns:xlink=\"http://www.w3.org/1999/xlink\">\n <defs>\n  <style type=\"text/css\">\n*{stroke-linecap:butt;stroke-linejoin:round;}\n  </style>\n </defs>\n <g id=\"figure_1\">\n  <g id=\"patch_1\">\n   <path d=\"M 0 271.165595 \nL 423.24909 271.165595 \nL 423.24909 0 \nL 0 0 \nz\n\" style=\"fill:none;\"/>\n  </g>\n  <g id=\"axes_1\">\n   <g id=\"patch_2\">\n    <path d=\"M 67.379375 225.866845 \nL 408.889375 225.866845 \nL 408.889375 7.2 \nL 67.379375 7.2 \nz\n\" style=\"fill:#ffffff;\"/>\n   </g>\n   <g id=\"patch_3\">\n    <path clip-path=\"url(#p42a6c76cb7)\" d=\"M 82.902557 225.866845 \nL 113.94892 225.866845 \nL 113.94892 17.612707 \nL 82.902557 17.612707 \nz\n\" style=\"fill:#1f77b4;\"/>\n   </g>\n   <g id=\"patch_4\">\n    <path clip-path=\"url(#p42a6c76cb7)\" d=\"M 113.94892 225.866845 \nL 144.995284 225.866845 \nL 144.995284 193.669192 \nL 113.94892 193.669192 \nz\n\" style=\"fill:#1f77b4;\"/>\n   </g>\n   <g id=\"patch_5\">\n    <path clip-path=\"url(#p42a6c76cb7)\" d=\"M 144.995284 225.866845 \nL 176.041648 225.866845 \nL 176.041648 217.266589 \nL 144.995284 217.266589 \nz\n\" style=\"fill:#1f77b4;\"/>\n   </g>\n   <g id=\"patch_6\">\n    <path clip-path=\"url(#p42a6c76cb7)\" d=\"M 176.041648 225.866845 \nL 207.088011 225.866845 \nL 207.088011 222.597327 \nL 176.041648 222.597327 \nz\n\" style=\"fill:#1f77b4;\"/>\n   </g>\n   <g id=\"patch_7\">\n    <path clip-path=\"url(#p42a6c76cb7)\" d=\"M 207.088011 225.866845 \nL 238.134375 225.866845 \nL 238.134375 224.445315 \nL 207.088011 224.445315 \nz\n\" style=\"fill:#1f77b4;\"/>\n   </g>\n   <g id=\"patch_8\">\n    <path clip-path=\"url(#p42a6c76cb7)\" d=\"M 238.134375 225.866845 \nL 269.180739 225.866845 \nL 269.180739 225.298233 \nL 238.134375 225.298233 \nz\n\" style=\"fill:#1f77b4;\"/>\n   </g>\n   <g id=\"patch_9\">\n    <path clip-path=\"url(#p42a6c76cb7)\" d=\"M 269.180739 225.866845 \nL 300.227102 225.866845 \nL 300.227102 225.36931 \nL 269.180739 225.36931 \nz\n\" style=\"fill:#1f77b4;\"/>\n   </g>\n   <g id=\"patch_10\">\n    <path clip-path=\"url(#p42a6c76cb7)\" d=\"M 300.227102 225.866845 \nL 331.273466 225.866845 \nL 331.273466 225.582539 \nL 300.227102 225.582539 \nz\n\" style=\"fill:#1f77b4;\"/>\n   </g>\n   <g id=\"patch_11\">\n    <path clip-path=\"url(#p42a6c76cb7)\" d=\"M 331.273466 225.866845 \nL 362.31983 225.866845 \nL 362.31983 225.866845 \nL 331.273466 225.866845 \nz\n\" style=\"fill:#1f77b4;\"/>\n   </g>\n   <g id=\"patch_12\">\n    <path clip-path=\"url(#p42a6c76cb7)\" d=\"M 362.31983 225.866845 \nL 393.366193 225.866845 \nL 393.366193 225.795769 \nL 362.31983 225.795769 \nz\n\" style=\"fill:#1f77b4;\"/>\n   </g>\n   <g id=\"matplotlib.axis_1\">\n    <g id=\"xtick_1\">\n     <g id=\"line2d_1\">\n      <defs>\n       <path d=\"M 0 0 \nL 0 3.5 \n\" id=\"m6fc314d876\" style=\"stroke:#000000;stroke-width:0.8;\"/>\n      </defs>\n      <g>\n       <use style=\"stroke:#000000;stroke-width:0.8;\" x=\"82.722264\" xlink:href=\"#m6fc314d876\" y=\"225.866845\"/>\n      </g>\n     </g>\n     <g id=\"text_1\">\n      <!-- 0 -->\n      <defs>\n       <path d=\"M 31.78125 66.40625 \nQ 24.171875 66.40625 20.328125 58.90625 \nQ 16.5 51.421875 16.5 36.375 \nQ 16.5 21.390625 20.328125 13.890625 \nQ 24.171875 6.390625 31.78125 6.390625 \nQ 39.453125 6.390625 43.28125 13.890625 \nQ 47.125 21.390625 47.125 36.375 \nQ 47.125 51.421875 43.28125 58.90625 \nQ 39.453125 66.40625 31.78125 66.40625 \nz\nM 31.78125 74.21875 \nQ 44.046875 74.21875 50.515625 64.515625 \nQ 56.984375 54.828125 56.984375 36.375 \nQ 56.984375 17.96875 50.515625 8.265625 \nQ 44.046875 -1.421875 31.78125 -1.421875 \nQ 19.53125 -1.421875 13.0625 8.265625 \nQ 6.59375 17.96875 6.59375 36.375 \nQ 6.59375 54.828125 13.0625 64.515625 \nQ 19.53125 74.21875 31.78125 74.21875 \nz\n\" id=\"DejaVuSans-48\"/>\n      </defs>\n      <g transform=\"translate(78.268514 243.504658)scale(0.14 -0.14)\">\n       <use xlink:href=\"#DejaVuSans-48\"/>\n      </g>\n     </g>\n    </g>\n    <g id=\"xtick_2\">\n     <g id=\"line2d_2\">\n      <g>\n       <use style=\"stroke:#000000;stroke-width:0.8;\" x=\"127.795382\" xlink:href=\"#m6fc314d876\" y=\"225.866845\"/>\n      </g>\n     </g>\n     <g id=\"text_2\">\n      <!-- 250 -->\n      <defs>\n       <path d=\"M 19.1875 8.296875 \nL 53.609375 8.296875 \nL 53.609375 0 \nL 7.328125 0 \nL 7.328125 8.296875 \nQ 12.9375 14.109375 22.625 23.890625 \nQ 32.328125 33.6875 34.8125 36.53125 \nQ 39.546875 41.84375 41.421875 45.53125 \nQ 43.3125 49.21875 43.3125 52.78125 \nQ 43.3125 58.59375 39.234375 62.25 \nQ 35.15625 65.921875 28.609375 65.921875 \nQ 23.96875 65.921875 18.8125 64.3125 \nQ 13.671875 62.703125 7.8125 59.421875 \nL 7.8125 69.390625 \nQ 13.765625 71.78125 18.9375 73 \nQ 24.125 74.21875 28.421875 74.21875 \nQ 39.75 74.21875 46.484375 68.546875 \nQ 53.21875 62.890625 53.21875 53.421875 \nQ 53.21875 48.921875 51.53125 44.890625 \nQ 49.859375 40.875 45.40625 35.40625 \nQ 44.1875 33.984375 37.640625 27.21875 \nQ 31.109375 20.453125 19.1875 8.296875 \nz\n\" id=\"DejaVuSans-50\"/>\n       <path d=\"M 10.796875 72.90625 \nL 49.515625 72.90625 \nL 49.515625 64.59375 \nL 19.828125 64.59375 \nL 19.828125 46.734375 \nQ 21.96875 47.46875 24.109375 47.828125 \nQ 26.265625 48.1875 28.421875 48.1875 \nQ 40.625 48.1875 47.75 41.5 \nQ 54.890625 34.8125 54.890625 23.390625 \nQ 54.890625 11.625 47.5625 5.09375 \nQ 40.234375 -1.421875 26.90625 -1.421875 \nQ 22.3125 -1.421875 17.546875 -0.640625 \nQ 12.796875 0.140625 7.71875 1.703125 \nL 7.71875 11.625 \nQ 12.109375 9.234375 16.796875 8.0625 \nQ 21.484375 6.890625 26.703125 6.890625 \nQ 35.15625 6.890625 40.078125 11.328125 \nQ 45.015625 15.765625 45.015625 23.390625 \nQ 45.015625 31 40.078125 35.4375 \nQ 35.15625 39.890625 26.703125 39.890625 \nQ 22.75 39.890625 18.8125 39.015625 \nQ 14.890625 38.140625 10.796875 36.28125 \nz\n\" id=\"DejaVuSans-53\"/>\n      </defs>\n      <g transform=\"translate(114.434132 243.504658)scale(0.14 -0.14)\">\n       <use xlink:href=\"#DejaVuSans-50\"/>\n       <use x=\"63.623047\" xlink:href=\"#DejaVuSans-53\"/>\n       <use x=\"127.246094\" xlink:href=\"#DejaVuSans-48\"/>\n      </g>\n     </g>\n    </g>\n    <g id=\"xtick_3\">\n     <g id=\"line2d_3\">\n      <g>\n       <use style=\"stroke:#000000;stroke-width:0.8;\" x=\"172.8685\" xlink:href=\"#m6fc314d876\" y=\"225.866845\"/>\n      </g>\n     </g>\n     <g id=\"text_3\">\n      <!-- 500 -->\n      <g transform=\"translate(159.50725 243.504658)scale(0.14 -0.14)\">\n       <use xlink:href=\"#DejaVuSans-53\"/>\n       <use x=\"63.623047\" xlink:href=\"#DejaVuSans-48\"/>\n       <use x=\"127.246094\" xlink:href=\"#DejaVuSans-48\"/>\n      </g>\n     </g>\n    </g>\n    <g id=\"xtick_4\">\n     <g id=\"line2d_4\">\n      <g>\n       <use style=\"stroke:#000000;stroke-width:0.8;\" x=\"217.941618\" xlink:href=\"#m6fc314d876\" y=\"225.866845\"/>\n      </g>\n     </g>\n     <g id=\"text_4\">\n      <!-- 750 -->\n      <defs>\n       <path d=\"M 8.203125 72.90625 \nL 55.078125 72.90625 \nL 55.078125 68.703125 \nL 28.609375 0 \nL 18.3125 0 \nL 43.21875 64.59375 \nL 8.203125 64.59375 \nz\n\" id=\"DejaVuSans-55\"/>\n      </defs>\n      <g transform=\"translate(204.580368 243.504658)scale(0.14 -0.14)\">\n       <use xlink:href=\"#DejaVuSans-55\"/>\n       <use x=\"63.623047\" xlink:href=\"#DejaVuSans-53\"/>\n       <use x=\"127.246094\" xlink:href=\"#DejaVuSans-48\"/>\n      </g>\n     </g>\n    </g>\n    <g id=\"xtick_5\">\n     <g id=\"line2d_5\">\n      <g>\n       <use style=\"stroke:#000000;stroke-width:0.8;\" x=\"263.014736\" xlink:href=\"#m6fc314d876\" y=\"225.866845\"/>\n      </g>\n     </g>\n     <g id=\"text_5\">\n      <!-- 1000 -->\n      <defs>\n       <path d=\"M 12.40625 8.296875 \nL 28.515625 8.296875 \nL 28.515625 63.921875 \nL 10.984375 60.40625 \nL 10.984375 69.390625 \nL 28.421875 72.90625 \nL 38.28125 72.90625 \nL 38.28125 8.296875 \nL 54.390625 8.296875 \nL 54.390625 0 \nL 12.40625 0 \nz\n\" id=\"DejaVuSans-49\"/>\n      </defs>\n      <g transform=\"translate(245.199736 243.504658)scale(0.14 -0.14)\">\n       <use xlink:href=\"#DejaVuSans-49\"/>\n       <use x=\"63.623047\" xlink:href=\"#DejaVuSans-48\"/>\n       <use x=\"127.246094\" xlink:href=\"#DejaVuSans-48\"/>\n       <use x=\"190.869141\" xlink:href=\"#DejaVuSans-48\"/>\n      </g>\n     </g>\n    </g>\n    <g id=\"xtick_6\">\n     <g id=\"line2d_6\">\n      <g>\n       <use style=\"stroke:#000000;stroke-width:0.8;\" x=\"308.087854\" xlink:href=\"#m6fc314d876\" y=\"225.866845\"/>\n      </g>\n     </g>\n     <g id=\"text_6\">\n      <!-- 1250 -->\n      <g transform=\"translate(290.272854 243.504658)scale(0.14 -0.14)\">\n       <use xlink:href=\"#DejaVuSans-49\"/>\n       <use x=\"63.623047\" xlink:href=\"#DejaVuSans-50\"/>\n       <use x=\"127.246094\" xlink:href=\"#DejaVuSans-53\"/>\n       <use x=\"190.869141\" xlink:href=\"#DejaVuSans-48\"/>\n      </g>\n     </g>\n    </g>\n    <g id=\"xtick_7\">\n     <g id=\"line2d_7\">\n      <g>\n       <use style=\"stroke:#000000;stroke-width:0.8;\" x=\"353.160972\" xlink:href=\"#m6fc314d876\" y=\"225.866845\"/>\n      </g>\n     </g>\n     <g id=\"text_7\">\n      <!-- 1500 -->\n      <g transform=\"translate(335.345972 243.504658)scale(0.14 -0.14)\">\n       <use xlink:href=\"#DejaVuSans-49\"/>\n       <use x=\"63.623047\" xlink:href=\"#DejaVuSans-53\"/>\n       <use x=\"127.246094\" xlink:href=\"#DejaVuSans-48\"/>\n       <use x=\"190.869141\" xlink:href=\"#DejaVuSans-48\"/>\n      </g>\n     </g>\n    </g>\n    <g id=\"xtick_8\">\n     <g id=\"line2d_8\">\n      <g>\n       <use style=\"stroke:#000000;stroke-width:0.8;\" x=\"398.23409\" xlink:href=\"#m6fc314d876\" y=\"225.866845\"/>\n      </g>\n     </g>\n     <g id=\"text_8\">\n      <!-- 1750 -->\n      <g transform=\"translate(380.41909 243.504658)scale(0.14 -0.14)\">\n       <use xlink:href=\"#DejaVuSans-49\"/>\n       <use x=\"63.623047\" xlink:href=\"#DejaVuSans-55\"/>\n       <use x=\"127.246094\" xlink:href=\"#DejaVuSans-53\"/>\n       <use x=\"190.869141\" xlink:href=\"#DejaVuSans-48\"/>\n      </g>\n     </g>\n    </g>\n    <g id=\"text_9\">\n     <!-- star votes -->\n     <defs>\n      <path d=\"M 44.28125 53.078125 \nL 44.28125 44.578125 \nQ 40.484375 46.53125 36.375 47.5 \nQ 32.28125 48.484375 27.875 48.484375 \nQ 21.1875 48.484375 17.84375 46.4375 \nQ 14.5 44.390625 14.5 40.28125 \nQ 14.5 37.15625 16.890625 35.375 \nQ 19.28125 33.59375 26.515625 31.984375 \nL 29.59375 31.296875 \nQ 39.15625 29.25 43.1875 25.515625 \nQ 47.21875 21.78125 47.21875 15.09375 \nQ 47.21875 7.46875 41.1875 3.015625 \nQ 35.15625 -1.421875 24.609375 -1.421875 \nQ 20.21875 -1.421875 15.453125 -0.5625 \nQ 10.6875 0.296875 5.421875 2 \nL 5.421875 11.28125 \nQ 10.40625 8.6875 15.234375 7.390625 \nQ 20.0625 6.109375 24.8125 6.109375 \nQ 31.15625 6.109375 34.5625 8.28125 \nQ 37.984375 10.453125 37.984375 14.40625 \nQ 37.984375 18.0625 35.515625 20.015625 \nQ 33.0625 21.96875 24.703125 23.78125 \nL 21.578125 24.515625 \nQ 13.234375 26.265625 9.515625 29.90625 \nQ 5.8125 33.546875 5.8125 39.890625 \nQ 5.8125 47.609375 11.28125 51.796875 \nQ 16.75 56 26.8125 56 \nQ 31.78125 56 36.171875 55.265625 \nQ 40.578125 54.546875 44.28125 53.078125 \nz\n\" id=\"DejaVuSans-115\"/>\n      <path d=\"M 18.3125 70.21875 \nL 18.3125 54.6875 \nL 36.8125 54.6875 \nL 36.8125 47.703125 \nL 18.3125 47.703125 \nL 18.3125 18.015625 \nQ 18.3125 11.328125 20.140625 9.421875 \nQ 21.96875 7.515625 27.59375 7.515625 \nL 36.8125 7.515625 \nL 36.8125 0 \nL 27.59375 0 \nQ 17.1875 0 13.234375 3.875 \nQ 9.28125 7.765625 9.28125 18.015625 \nL 9.28125 47.703125 \nL 2.6875 47.703125 \nL 2.6875 54.6875 \nL 9.28125 54.6875 \nL 9.28125 70.21875 \nz\n\" id=\"DejaVuSans-116\"/>\n      <path d=\"M 34.28125 27.484375 \nQ 23.390625 27.484375 19.1875 25 \nQ 14.984375 22.515625 14.984375 16.5 \nQ 14.984375 11.71875 18.140625 8.90625 \nQ 21.296875 6.109375 26.703125 6.109375 \nQ 34.1875 6.109375 38.703125 11.40625 \nQ 43.21875 16.703125 43.21875 25.484375 \nL 43.21875 27.484375 \nz\nM 52.203125 31.203125 \nL 52.203125 0 \nL 43.21875 0 \nL 43.21875 8.296875 \nQ 40.140625 3.328125 35.546875 0.953125 \nQ 30.953125 -1.421875 24.3125 -1.421875 \nQ 15.921875 -1.421875 10.953125 3.296875 \nQ 6 8.015625 6 15.921875 \nQ 6 25.140625 12.171875 29.828125 \nQ 18.359375 34.515625 30.609375 34.515625 \nL 43.21875 34.515625 \nL 43.21875 35.40625 \nQ 43.21875 41.609375 39.140625 45 \nQ 35.0625 48.390625 27.6875 48.390625 \nQ 23 48.390625 18.546875 47.265625 \nQ 14.109375 46.140625 10.015625 43.890625 \nL 10.015625 52.203125 \nQ 14.9375 54.109375 19.578125 55.046875 \nQ 24.21875 56 28.609375 56 \nQ 40.484375 56 46.34375 49.84375 \nQ 52.203125 43.703125 52.203125 31.203125 \nz\n\" id=\"DejaVuSans-97\"/>\n      <path d=\"M 41.109375 46.296875 \nQ 39.59375 47.171875 37.8125 47.578125 \nQ 36.03125 48 33.890625 48 \nQ 26.265625 48 22.1875 43.046875 \nQ 18.109375 38.09375 18.109375 28.8125 \nL 18.109375 0 \nL 9.078125 0 \nL 9.078125 54.6875 \nL 18.109375 54.6875 \nL 18.109375 46.1875 \nQ 20.953125 51.171875 25.484375 53.578125 \nQ 30.03125 56 36.53125 56 \nQ 37.453125 56 38.578125 55.875 \nQ 39.703125 55.765625 41.0625 55.515625 \nz\n\" id=\"DejaVuSans-114\"/>\n      <path id=\"DejaVuSans-32\"/>\n      <path d=\"M 2.984375 54.6875 \nL 12.5 54.6875 \nL 29.59375 8.796875 \nL 46.6875 54.6875 \nL 56.203125 54.6875 \nL 35.6875 0 \nL 23.484375 0 \nz\n\" id=\"DejaVuSans-118\"/>\n      <path d=\"M 30.609375 48.390625 \nQ 23.390625 48.390625 19.1875 42.75 \nQ 14.984375 37.109375 14.984375 27.296875 \nQ 14.984375 17.484375 19.15625 11.84375 \nQ 23.34375 6.203125 30.609375 6.203125 \nQ 37.796875 6.203125 41.984375 11.859375 \nQ 46.1875 17.53125 46.1875 27.296875 \nQ 46.1875 37.015625 41.984375 42.703125 \nQ 37.796875 48.390625 30.609375 48.390625 \nz\nM 30.609375 56 \nQ 42.328125 56 49.015625 48.375 \nQ 55.71875 40.765625 55.71875 27.296875 \nQ 55.71875 13.875 49.015625 6.21875 \nQ 42.328125 -1.421875 30.609375 -1.421875 \nQ 18.84375 -1.421875 12.171875 6.21875 \nQ 5.515625 13.875 5.515625 27.296875 \nQ 5.515625 40.765625 12.171875 48.375 \nQ 18.84375 56 30.609375 56 \nz\n\" id=\"DejaVuSans-111\"/>\n      <path d=\"M 56.203125 29.59375 \nL 56.203125 25.203125 \nL 14.890625 25.203125 \nQ 15.484375 15.921875 20.484375 11.0625 \nQ 25.484375 6.203125 34.421875 6.203125 \nQ 39.59375 6.203125 44.453125 7.46875 \nQ 49.3125 8.734375 54.109375 11.28125 \nL 54.109375 2.78125 \nQ 49.265625 0.734375 44.1875 -0.34375 \nQ 39.109375 -1.421875 33.890625 -1.421875 \nQ 20.796875 -1.421875 13.15625 6.1875 \nQ 5.515625 13.8125 5.515625 26.8125 \nQ 5.515625 40.234375 12.765625 48.109375 \nQ 20.015625 56 32.328125 56 \nQ 43.359375 56 49.78125 48.890625 \nQ 56.203125 41.796875 56.203125 29.59375 \nz\nM 47.21875 32.234375 \nQ 47.125 39.59375 43.09375 43.984375 \nQ 39.0625 48.390625 32.421875 48.390625 \nQ 24.90625 48.390625 20.390625 44.140625 \nQ 15.875 39.890625 15.1875 32.171875 \nz\n\" id=\"DejaVuSans-101\"/>\n     </defs>\n     <g transform=\"translate(203.227344 261.054033)scale(0.14 -0.14)\">\n      <use xlink:href=\"#DejaVuSans-115\"/>\n      <use x=\"52.099609\" xlink:href=\"#DejaVuSans-116\"/>\n      <use x=\"91.308594\" xlink:href=\"#DejaVuSans-97\"/>\n      <use x=\"152.587891\" xlink:href=\"#DejaVuSans-114\"/>\n      <use x=\"193.701172\" xlink:href=\"#DejaVuSans-32\"/>\n      <use x=\"225.488281\" xlink:href=\"#DejaVuSans-118\"/>\n      <use x=\"284.667969\" xlink:href=\"#DejaVuSans-111\"/>\n      <use x=\"345.849609\" xlink:href=\"#DejaVuSans-116\"/>\n      <use x=\"385.058594\" xlink:href=\"#DejaVuSans-101\"/>\n      <use x=\"446.582031\" xlink:href=\"#DejaVuSans-115\"/>\n     </g>\n    </g>\n   </g>\n   <g id=\"matplotlib.axis_2\">\n    <g id=\"ytick_1\">\n     <g id=\"line2d_9\">\n      <defs>\n       <path d=\"M 0 0 \nL -3.5 0 \n\" id=\"mdf985f2ea1\" style=\"stroke:#000000;stroke-width:0.8;\"/>\n      </defs>\n      <g>\n       <use style=\"stroke:#000000;stroke-width:0.8;\" x=\"67.379375\" xlink:href=\"#mdf985f2ea1\" y=\"225.866845\"/>\n      </g>\n     </g>\n     <g id=\"text_10\">\n      <!-- 0 -->\n      <g transform=\"translate(51.471875 231.185752)scale(0.14 -0.14)\">\n       <use xlink:href=\"#DejaVuSans-48\"/>\n      </g>\n     </g>\n    </g>\n    <g id=\"ytick_2\">\n     <g id=\"line2d_10\">\n      <g>\n       <use style=\"stroke:#000000;stroke-width:0.8;\" x=\"67.379375\" xlink:href=\"#mdf985f2ea1\" y=\"190.328597\"/>\n      </g>\n     </g>\n     <g id=\"text_11\">\n      <!-- 500 -->\n      <g transform=\"translate(33.656875 195.647503)scale(0.14 -0.14)\">\n       <use xlink:href=\"#DejaVuSans-53\"/>\n       <use x=\"63.623047\" xlink:href=\"#DejaVuSans-48\"/>\n       <use x=\"127.246094\" xlink:href=\"#DejaVuSans-48\"/>\n      </g>\n     </g>\n    </g>\n    <g id=\"ytick_3\">\n     <g id=\"line2d_11\">\n      <g>\n       <use style=\"stroke:#000000;stroke-width:0.8;\" x=\"67.379375\" xlink:href=\"#mdf985f2ea1\" y=\"154.790348\"/>\n      </g>\n     </g>\n     <g id=\"text_12\">\n      <!-- 1000 -->\n      <g transform=\"translate(24.749375 160.109254)scale(0.14 -0.14)\">\n       <use xlink:href=\"#DejaVuSans-49\"/>\n       <use x=\"63.623047\" xlink:href=\"#DejaVuSans-48\"/>\n       <use x=\"127.246094\" xlink:href=\"#DejaVuSans-48\"/>\n       <use x=\"190.869141\" xlink:href=\"#DejaVuSans-48\"/>\n      </g>\n     </g>\n    </g>\n    <g id=\"ytick_4\">\n     <g id=\"line2d_12\">\n      <g>\n       <use style=\"stroke:#000000;stroke-width:0.8;\" x=\"67.379375\" xlink:href=\"#mdf985f2ea1\" y=\"119.252099\"/>\n      </g>\n     </g>\n     <g id=\"text_13\">\n      <!-- 1500 -->\n      <g transform=\"translate(24.749375 124.571005)scale(0.14 -0.14)\">\n       <use xlink:href=\"#DejaVuSans-49\"/>\n       <use x=\"63.623047\" xlink:href=\"#DejaVuSans-53\"/>\n       <use x=\"127.246094\" xlink:href=\"#DejaVuSans-48\"/>\n       <use x=\"190.869141\" xlink:href=\"#DejaVuSans-48\"/>\n      </g>\n     </g>\n    </g>\n    <g id=\"ytick_5\">\n     <g id=\"line2d_13\">\n      <g>\n       <use style=\"stroke:#000000;stroke-width:0.8;\" x=\"67.379375\" xlink:href=\"#mdf985f2ea1\" y=\"83.71385\"/>\n      </g>\n     </g>\n     <g id=\"text_14\">\n      <!-- 2000 -->\n      <g transform=\"translate(24.749375 89.032756)scale(0.14 -0.14)\">\n       <use xlink:href=\"#DejaVuSans-50\"/>\n       <use x=\"63.623047\" xlink:href=\"#DejaVuSans-48\"/>\n       <use x=\"127.246094\" xlink:href=\"#DejaVuSans-48\"/>\n       <use x=\"190.869141\" xlink:href=\"#DejaVuSans-48\"/>\n      </g>\n     </g>\n    </g>\n    <g id=\"ytick_6\">\n     <g id=\"line2d_14\">\n      <g>\n       <use style=\"stroke:#000000;stroke-width:0.8;\" x=\"67.379375\" xlink:href=\"#mdf985f2ea1\" y=\"48.175601\"/>\n      </g>\n     </g>\n     <g id=\"text_15\">\n      <!-- 2500 -->\n      <g transform=\"translate(24.749375 53.494507)scale(0.14 -0.14)\">\n       <use xlink:href=\"#DejaVuSans-50\"/>\n       <use x=\"63.623047\" xlink:href=\"#DejaVuSans-53\"/>\n       <use x=\"127.246094\" xlink:href=\"#DejaVuSans-48\"/>\n       <use x=\"190.869141\" xlink:href=\"#DejaVuSans-48\"/>\n      </g>\n     </g>\n    </g>\n    <g id=\"ytick_7\">\n     <g id=\"line2d_15\">\n      <g>\n       <use style=\"stroke:#000000;stroke-width:0.8;\" x=\"67.379375\" xlink:href=\"#mdf985f2ea1\" y=\"12.637352\"/>\n      </g>\n     </g>\n     <g id=\"text_16\">\n      <!-- 3000 -->\n      <defs>\n       <path d=\"M 40.578125 39.3125 \nQ 47.65625 37.796875 51.625 33 \nQ 55.609375 28.21875 55.609375 21.1875 \nQ 55.609375 10.40625 48.1875 4.484375 \nQ 40.765625 -1.421875 27.09375 -1.421875 \nQ 22.515625 -1.421875 17.65625 -0.515625 \nQ 12.796875 0.390625 7.625 2.203125 \nL 7.625 11.71875 \nQ 11.71875 9.328125 16.59375 8.109375 \nQ 21.484375 6.890625 26.8125 6.890625 \nQ 36.078125 6.890625 40.9375 10.546875 \nQ 45.796875 14.203125 45.796875 21.1875 \nQ 45.796875 27.640625 41.28125 31.265625 \nQ 36.765625 34.90625 28.71875 34.90625 \nL 20.21875 34.90625 \nL 20.21875 43.015625 \nL 29.109375 43.015625 \nQ 36.375 43.015625 40.234375 45.921875 \nQ 44.09375 48.828125 44.09375 54.296875 \nQ 44.09375 59.90625 40.109375 62.90625 \nQ 36.140625 65.921875 28.71875 65.921875 \nQ 24.65625 65.921875 20.015625 65.03125 \nQ 15.375 64.15625 9.8125 62.3125 \nL 9.8125 71.09375 \nQ 15.4375 72.65625 20.34375 73.4375 \nQ 25.25 74.21875 29.59375 74.21875 \nQ 40.828125 74.21875 47.359375 69.109375 \nQ 53.90625 64.015625 53.90625 55.328125 \nQ 53.90625 49.265625 50.4375 45.09375 \nQ 46.96875 40.921875 40.578125 39.3125 \nz\n\" id=\"DejaVuSans-51\"/>\n      </defs>\n      <g transform=\"translate(24.749375 17.956258)scale(0.14 -0.14)\">\n       <use xlink:href=\"#DejaVuSans-51\"/>\n       <use x=\"63.623047\" xlink:href=\"#DejaVuSans-48\"/>\n       <use x=\"127.246094\" xlink:href=\"#DejaVuSans-48\"/>\n       <use x=\"190.869141\" xlink:href=\"#DejaVuSans-48\"/>\n      </g>\n     </g>\n    </g>\n    <g id=\"text_17\">\n     <!-- # routes -->\n     <defs>\n      <path d=\"M 51.125 44 \nL 36.921875 44 \nL 32.8125 27.6875 \nL 47.125 27.6875 \nz\nM 43.796875 71.78125 \nL 38.71875 51.515625 \nL 52.984375 51.515625 \nL 58.109375 71.78125 \nL 65.921875 71.78125 \nL 60.890625 51.515625 \nL 76.125 51.515625 \nL 76.125 44 \nL 58.984375 44 \nL 54.984375 27.6875 \nL 70.515625 27.6875 \nL 70.515625 20.21875 \nL 53.078125 20.21875 \nL 48 0 \nL 40.1875 0 \nL 45.21875 20.21875 \nL 30.90625 20.21875 \nL 25.875 0 \nL 18.015625 0 \nL 23.09375 20.21875 \nL 7.71875 20.21875 \nL 7.71875 27.6875 \nL 24.90625 27.6875 \nL 29 44 \nL 13.28125 44 \nL 13.28125 51.515625 \nL 30.90625 51.515625 \nL 35.890625 71.78125 \nz\n\" id=\"DejaVuSans-35\"/>\n      <path d=\"M 8.5 21.578125 \nL 8.5 54.6875 \nL 17.484375 54.6875 \nL 17.484375 21.921875 \nQ 17.484375 14.15625 20.5 10.265625 \nQ 23.53125 6.390625 29.59375 6.390625 \nQ 36.859375 6.390625 41.078125 11.03125 \nQ 45.3125 15.671875 45.3125 23.6875 \nL 45.3125 54.6875 \nL 54.296875 54.6875 \nL 54.296875 0 \nL 45.3125 0 \nL 45.3125 8.40625 \nQ 42.046875 3.421875 37.71875 1 \nQ 33.40625 -1.421875 27.6875 -1.421875 \nQ 18.265625 -1.421875 13.375 4.4375 \nQ 8.5 10.296875 8.5 21.578125 \nz\nM 31.109375 56 \nz\n\" id=\"DejaVuSans-117\"/>\n     </defs>\n     <g transform=\"translate(17.837813 146.761391)rotate(-90)scale(0.14 -0.14)\">\n      <use xlink:href=\"#DejaVuSans-35\"/>\n      <use x=\"83.789062\" xlink:href=\"#DejaVuSans-32\"/>\n      <use x=\"115.576172\" xlink:href=\"#DejaVuSans-114\"/>\n      <use x=\"154.439453\" xlink:href=\"#DejaVuSans-111\"/>\n      <use x=\"215.621094\" xlink:href=\"#DejaVuSans-117\"/>\n      <use x=\"279\" xlink:href=\"#DejaVuSans-116\"/>\n      <use x=\"318.208984\" xlink:href=\"#DejaVuSans-101\"/>\n      <use x=\"379.732422\" xlink:href=\"#DejaVuSans-115\"/>\n     </g>\n    </g>\n   </g>\n   <g id=\"patch_13\">\n    <path d=\"M 67.379375 225.866845 \nL 67.379375 7.2 \n\" style=\"fill:none;stroke:#000000;stroke-linecap:square;stroke-linejoin:miter;stroke-width:0.8;\"/>\n   </g>\n   <g id=\"patch_14\">\n    <path d=\"M 67.379375 225.866845 \nL 408.889375 225.866845 \n\" style=\"fill:none;stroke:#000000;stroke-linecap:square;stroke-linejoin:miter;stroke-width:0.8;\"/>\n   </g>\n  </g>\n </g>\n <defs>\n  <clipPath id=\"p42a6c76cb7\">\n   <rect height=\"218.666845\" width=\"341.51\" x=\"67.379375\" y=\"7.2\"/>\n  </clipPath>\n </defs>\n</svg>\n",
      "image/png": "[encoded data removed]"
     },
     "metadata": {
      "needs_background": "light"
     }
    }
   ],
   "source": [
    "plt.rc('font', size=14)  \n",
    "ax = rf['starVotes'].hist()\n",
    "ax.spines['right'].set_visible(False)\n",
    "ax.spines['top'].set_visible(False)\n",
    "ax.grid(False)\n",
    "ax.set_xlabel('star votes')\n",
    "ax.set_ylabel('# routes')\n",
    "plt.tight_layout()\n",
    "plt.savefig('analyze/route_star_vote_freq.png')"
   ]
  },
  {
   "cell_type": "code",
   "execution_count": 17,
   "metadata": {},
   "outputs": [
    {
     "output_type": "execute_result",
     "data": {
      "text/plain": "Index(['id', 'location', 'latitude', 'longitude', 'name', 'pitches', 'rating',\n       'starVotes', 'stars', 'type'],\n      dtype='object')"
     },
     "metadata": {},
     "execution_count": 17
    }
   ],
   "source": [
    "rf.columns"
   ]
  },
  {
   "cell_type": "code",
   "execution_count": 24,
   "metadata": {},
   "outputs": [],
   "source": [
    "raw_types = rf['type'].unique()\n",
    "raw_rating = rf['rating'].unique()\n",
    "raw_pitches = rf['pitches'].unique()"
   ]
  },
  {
   "cell_type": "code",
   "execution_count": 91,
   "metadata": {},
   "outputs": [],
   "source": [
    "rf['pitches'][rf['pitches'].isna()] = 1"
   ]
  },
  {
   "cell_type": "code",
   "execution_count": 92,
   "metadata": {},
   "outputs": [
    {
     "output_type": "execute_result",
     "data": {
      "text/plain": "array([ 1.,  6.,  8.,  3., 10.,  4.,  2.,  5.,  9.,  7., 11., 13., 12.,\n       14., 15., 31., 20., 23., 16., 19., 24.])"
     },
     "metadata": {},
     "execution_count": 92
    }
   ],
   "source": [
    "rf['pitches'].unique()\n",
    ""
   ]
  },
  {
   "cell_type": "code",
   "execution_count": 123,
   "metadata": {},
   "outputs": [
    {
     "output_type": "execute_result",
     "data": {
      "text/plain": "array(['5.10a', '5.4', '5.7+', '5.9+', '5.9', '5.8', '5.8+', '5.6 R',\n       '5.7', '5.11b', '5.9-', '5.5', '5.6', '5.10b/c R', '5.9+ R',\n       '5.10c', '5.11a', '5.11c', '5.9- R', '5.8 R', '5.5 R', '5.3 R',\n       '5.10b', '5.0', '5.2', '5.11b/c', '5.10-', '5.10d', '5.10b/c',\n       '5.11d', '5.12a', '5.3', '5.4 R', '5.4 Easy Snow', '5.10d R',\n       '5.2 R', '5.1', '5.12b', '5.11a/b', '5.10c PG13', '5.9 PG13',\n       '5.10', '5.11a R', '4th', '5.11+', '5.8+ R', '5.10a/b', '5.10c/d',\n       '5.11-', '5.11c PG13', '5.7 PG13', '5.5 PG13', '5.10a/b PG13',\n       '5.12-', '5.10- PG13', '5.11d PG13', '5.8 PG13', '5.12d',\n       '5.11c/d', '5.11', '5.12c', '5.13a', '5.12a/b PG13', '5.12b/c',\n       '5.10+', '5.13a/b', '5.13b', '5.11- R', '5.10c R', 'V7',\n       '5.9- PG13', '5.11a X', '5.12a/b', '5.12c/d', '5.11b R',\n       '5.11a PG13', '5.7 R', '5.10+ PG13', '5.10a X', '5.10a R', '5.12',\n       '5.12a X', '5.11b A1', '5.7 C0', '5.11b PG13', 'V4+', '5.10d PG13',\n       '5.12b/c R', 'WI3-4', 'WI5 M6 R', '5.8-', '5.9 C2', '5.10b/c A0',\n       'Steep Snow', 'V1', 'V0', 'V2', 'V3-4', '5.11a A0', 'V4-', 'V5',\n       'V4', 'V0-', 'V3', '5.10b PG13', 'V9', 'V6', 'V5-6', 'V0+', 'V8',\n       '5.13c', 'V6-', 'V7-8', 'V2+', '5.13b/c', 'V6-7', 'V0-1',\n       '5.12a PG13', 'V5+', 'V8+', 'V1-', 'V4-5', 'V9-10', 'V10-', 'V8-9',\n       'Easy 5th', 'V3+', 'V4 PG13', '5.10 PG13', '5.11 R', '5.11b X',\n       '5.10 R', '5.12+', '5.10c X', '5.12- PG13', 'V2 R', 'V3- X',\n       'V3 R', '5.8+ PG13', '5.12 R', '5.12b/c PG13', 'V5-', 'V1+',\n       'V1-2', 'V2-', 'V3 PG13', 'V5-6 PG13', '5.9 V1', 'V4 R', 'V-easy',\n       'WI3', 'WI4', 'WI4-', 'WI4 M6-7', '5.12a A0', '5.12- R', '5.9 R',\n       '5.7 X', '5.12a C2 R', 'Steep Snow PG13', '3rd Mod. Snow',\n       '5.12b R', 'V1 R', 'WI2-3', 'WI5-', 'WI4+', 'WI2-', 'WI3-',\n       '5.10 A0', '5.10a PG13', '5.10- R', '5.10 C2+', '5.12b X', '5.13+',\n       '5.11c R', '5.11b/c PG13', 'WI5 R', 'WI4-5', '5.10c A0',\n       '5.13a PG13', '5.11 PG13', '5.12d R', '5.11d R', '5.13a R',\n       '5.7+ PG13', 'V2 PG13', '5.12 X', nan, '5.10- C1', 'V0- R',\n       'WI4-5 M5', '5.4 PG13', 'M6', '5.8 C2', '5.10+ C2', '5.10b R',\n       '5.10b/c A0+', '5.10+ R', '5.4 Mod. Snow', '5.11b C1',\n       '5.6 WI2 M1 Mod. Snow', '5.9 A0 R', '5.9 C1', '5.9 C3', 'V3-',\n       '5.4 C2+', '5.9 A3', '5.8 C2+', '5.8 C1', '5.7 C2', '5.11a C3',\n       '5.10 A1', 'WI5-6 M5 R', '5.10 A3 R', '5.12b PG13', 'WI5+',\n       '5.11+ R', 'V2-3', '4th PG13'], dtype=object)"
     },
     "metadata": {},
     "execution_count": 123
    }
   ],
   "source": [
    "raw_rating"
   ]
  },
  {
   "cell_type": "code",
   "execution_count": 98,
   "metadata": {},
   "outputs": [],
   "source": [
    "rating_frame = pd.DataFrame(columns=['raw_rating','s5'], \n",
    "    data=np.array([\n",
    "        list(raw_rating),\n",
    "        [r.split('5.') for r in raw_rating.astype(str)]\n",
    "    ]).T)"
   ]
  },
  {
   "cell_type": "code",
   "execution_count": 185,
   "metadata": {},
   "outputs": [],
   "source": [
    "climb_numerical_ratings = [ \"\".join(itertools.takewhile(str.isdigit, r)) for r in\n",
    "    rating_frame[rating_frame['s5'].apply(lambda r: len(r) == 2 )]['s5'].str[-1] ]\n",
    "rating_frame['climb_rating'] = np.nan\n",
    "new_ratings = rating_frame[rating_frame['s5'].apply(lambda r: len(r) == 2 )].assign(climb_rating=climb_numerical_ratings)\n",
    "rating_frame[rating_frame['s5'].apply(lambda r: len(r) == 2 )] = new_ratings"
   ]
  },
  {
   "cell_type": "code",
   "execution_count": 186,
   "metadata": {},
   "outputs": [],
   "source": [
    "boulder_ratings = rating_frame[rating_frame['climb_rating'].isna()]['s5'].str[0].str.split('V')\n",
    "boulder_ratings_strp = [  \"\".join(itertools.takewhile(str.isdigit, r)) for r in \n",
    "    boulder_ratings[boulder_ratings.apply(lambda r: len(r) == 2)].str[-1]]"
   ]
  },
  {
   "cell_type": "code",
   "execution_count": 187,
   "metadata": {},
   "outputs": [],
   "source": [
    "bri = [int(brs) if brs != '' else 0 for brs in boulder_ratings_strp]"
   ]
  },
  {
   "cell_type": "code",
   "execution_count": 188,
   "metadata": {},
   "outputs": [],
   "source": [
    "brf = rating_frame[rating_frame['s5'].str[0].str.split('V').apply(lambda r: len(r) == 2)].assign(climb_rating=bri)\n",
    "rating_frame[rating_frame['s5'].str[0].str.split('V').apply(lambda r: len(r) == 2)] = brf\n",
    ""
   ]
  },
  {
   "cell_type": "code",
   "execution_count": 189,
   "metadata": {},
   "outputs": [],
   "source": [
    "import re"
   ]
  },
  {
   "cell_type": "code",
   "execution_count": 190,
   "metadata": {},
   "outputs": [],
   "source": [
    "res = [ re.search(r'\\d+', r) for r in list(rating_frame[rating_frame['climb_rating'].isna()]['raw_rating'].astype(str)) ]"
   ]
  },
  {
   "cell_type": "code",
   "execution_count": 191,
   "metadata": {},
   "outputs": [
    {
     "output_type": "execute_result",
     "data": {
      "text/plain": "[4, 3, 5, 0, 5, 3, 4, 4, 4, 13, 3, 2, 5, 4, 2, 3, 5, 4, 0, 4, 6, 5, 5, 4]"
     },
     "metadata": {},
     "execution_count": 191
    }
   ],
   "source": [
    "out = []\n",
    "for r in res:\n",
    "    if r is None:\n",
    "        out.append(0)\n",
    "    else:\n",
    "        out.append(int(r.group(0)))\n",
    "out"
   ]
  },
  {
   "cell_type": "code",
   "execution_count": 192,
   "metadata": {},
   "outputs": [],
   "source": [
    "remainder = rating_frame[rating_frame['climb_rating'].isna()].assign(climb_rating=out)\n",
    "rating_frame[rating_frame['climb_rating'].isna()] = remainder"
   ]
  },
  {
   "cell_type": "code",
   "execution_count": 194,
   "metadata": {},
   "outputs": [],
   "source": [
    "rating_frame['climb_rating'] = rating_frame['climb_rating'].astype(int)"
   ]
  },
  {
   "cell_type": "code",
   "execution_count": 201,
   "metadata": {},
   "outputs": [],
   "source": [
    "rtf = rating_frame.set_index('raw_rating')\n",
    "rf['clean_rating'] = rf['rating'].apply(lambda r: rtf.loc[r]['climb_rating'])"
   ]
  },
  {
   "cell_type": "code",
   "execution_count": 203,
   "metadata": {},
   "outputs": [
    {
     "output_type": "execute_result",
     "data": {
      "text/plain": "          id                                           location  latitude  \\\n0  105717502  ['Utah', 'Moab Area', 'Potash Road', 'Wall Str...   38.5477   \n1  105732407  ['Nevada', 'Southern Nevada', 'Red Rock', '16-...   36.0352   \n2  105748047  ['Colorado', 'Boulder', 'Flatirons', 'North', ...   39.9878   \n3  105748142  ['Colorado', 'Boulder', 'Boulder Canyon', 'Cob...   40.1687   \n4  105748214  ['Colorado', 'Boulder', 'Boulder Canyon', 'The...   40.0034   \n\n   longitude                  name  pitches rating  starVotes  stars   type  \\\n0  -109.5988   Nervous in Suburbia      1.0  5.10a        510    4.0  Sport   \n1  -115.4665             Sour Mash      6.0  5.10a        441    4.6   Trad   \n2  -105.2918  East Face (Standard)      8.0    5.4        856    4.6   Trad   \n3  -105.3730                 Empor      3.0   5.7+        371    4.0   Trad   \n4  -105.3959     New Lease on Life      1.0   5.9+        178    2.7  Sport   \n\n   clean_pitches  clean_rating  \n0            1.0            10  \n1            6.0            10  \n2            8.0             4  \n3            3.0             7  \n4            1.0             9  ",
      "text/html": "<div>\n<style scoped>\n    .dataframe tbody tr th:only-of-type {\n        vertical-align: middle;\n    }\n\n    .dataframe tbody tr th {\n        vertical-align: top;\n    }\n\n    .dataframe thead th {\n        text-align: right;\n    }\n</style>\n<table border=\"1\" class=\"dataframe\">\n  <thead>\n    <tr style=\"text-align: right;\">\n      <th></th>\n      <th>id</th>\n      <th>location</th>\n      <th>latitude</th>\n      <th>longitude</th>\n      <th>name</th>\n      <th>pitches</th>\n      <th>rating</th>\n      <th>starVotes</th>\n      <th>stars</th>\n      <th>type</th>\n      <th>clean_pitches</th>\n      <th>clean_rating</th>\n    </tr>\n  </thead>\n  <tbody>\n    <tr>\n      <th>0</th>\n      <td>105717502</td>\n      <td>['Utah', 'Moab Area', 'Potash Road', 'Wall Str...</td>\n      <td>38.5477</td>\n      <td>-109.5988</td>\n      <td>Nervous in Suburbia</td>\n      <td>1.0</td>\n      <td>5.10a</td>\n      <td>510</td>\n      <td>4.0</td>\n      <td>Sport</td>\n      <td>1.0</td>\n      <td>10</td>\n    </tr>\n    <tr>\n      <th>1</th>\n      <td>105732407</td>\n      <td>['Nevada', 'Southern Nevada', 'Red Rock', '16-...</td>\n      <td>36.0352</td>\n      <td>-115.4665</td>\n      <td>Sour Mash</td>\n      <td>6.0</td>\n      <td>5.10a</td>\n      <td>441</td>\n      <td>4.6</td>\n      <td>Trad</td>\n      <td>6.0</td>\n      <td>10</td>\n    </tr>\n    <tr>\n      <th>2</th>\n      <td>105748047</td>\n      <td>['Colorado', 'Boulder', 'Flatirons', 'North', ...</td>\n      <td>39.9878</td>\n      <td>-105.2918</td>\n      <td>East Face (Standard)</td>\n      <td>8.0</td>\n      <td>5.4</td>\n      <td>856</td>\n      <td>4.6</td>\n      <td>Trad</td>\n      <td>8.0</td>\n      <td>4</td>\n    </tr>\n    <tr>\n      <th>3</th>\n      <td>105748142</td>\n      <td>['Colorado', 'Boulder', 'Boulder Canyon', 'Cob...</td>\n      <td>40.1687</td>\n      <td>-105.3730</td>\n      <td>Empor</td>\n      <td>3.0</td>\n      <td>5.7+</td>\n      <td>371</td>\n      <td>4.0</td>\n      <td>Trad</td>\n      <td>3.0</td>\n      <td>7</td>\n    </tr>\n    <tr>\n      <th>4</th>\n      <td>105748214</td>\n      <td>['Colorado', 'Boulder', 'Boulder Canyon', 'The...</td>\n      <td>40.0034</td>\n      <td>-105.3959</td>\n      <td>New Lease on Life</td>\n      <td>1.0</td>\n      <td>5.9+</td>\n      <td>178</td>\n      <td>2.7</td>\n      <td>Sport</td>\n      <td>1.0</td>\n      <td>9</td>\n    </tr>\n  </tbody>\n</table>\n</div>"
     },
     "metadata": {},
     "execution_count": 203
    }
   ],
   "source": [
    "rf.head()"
   ]
  },
  {
   "cell_type": "code",
   "execution_count": 204,
   "metadata": {},
   "outputs": [
    {
     "output_type": "execute_result",
     "data": {
      "text/plain": "array(['Sport', 'Trad', 'Trad, TR', 'Sport, TR', 'TR', 'Trad, Sport',\n       'Trad, Snow, Alpine', 'Trad, Sport, TR', 'Trad, Alpine', 'Boulder',\n       'Sport, Aid', 'Trad, Sport, Aid', 'Trad, TR, Ice',\n       'Trad, Mixed, Ice', 'Trad, Aid', 'Snow, Alpine', 'Boulder, Alpine',\n       'TR, Boulder, Alpine', 'Trad, Ice', 'Ice', 'TR, Ice',\n       'Sport, Alpine', 'Aid', 'Snow', 'Alpine', 'Trad, TR, Aid',\n       'Trad, TR, Boulder', 'Sport, Mixed, Ice', 'Sport, Mixed',\n       'Trad, Mixed, Ice, Snow, Alpine', 'Trad, Aid, Alpine'],\n      dtype=object)"
     },
     "metadata": {},
     "execution_count": 204
    }
   ],
   "source": [
    "raw_types"
   ]
  },
  {
   "cell_type": "code",
   "execution_count": 214,
   "metadata": {},
   "outputs": [
    {
     "output_type": "execute_result",
     "data": {
      "text/plain": "array(['Aid', 'Alpine', 'Boulder', 'Ice', 'Mixed', 'Snow', 'Sport', 'TR',\n       'Trad'], dtype='<U7')"
     },
     "metadata": {},
     "execution_count": 214
    }
   ],
   "source": [
    "unique_types = np.unique(list(itertools.chain.from_iterable([r.split(', ') for r in raw_types])))\n",
    "pd.DataFrame(\n",
    "    data=np.array(\n",
    "        unique_types,\n",
    "        np.zeros(len(unique_types))\n",
    "    ).T\n",
    "    columns=['']\n",
    ")"
   ]
  },
  {
   "cell_type": "code",
   "execution_count": null,
   "metadata": {},
   "outputs": [],
   "source": []
  },
  {
   "cell_type": "code",
   "execution_count": null,
   "metadata": {},
   "outputs": [],
   "source": []
  },
  {
   "cell_type": "code",
   "execution_count": 38,
   "metadata": {},
   "outputs": [
    {
     "output_type": "execute_result",
     "data": {
      "text/plain": "0.18857938718662953"
     },
     "metadata": {},
     "execution_count": 38
    }
   ],
   "source": [
    "len(rf[rf['pitches'].isnaz()])/len(rf)"
   ]
  },
  {
   "cell_type": "code",
   "execution_count": 54,
   "metadata": {},
   "outputs": [
    {
     "output_type": "execute_result",
     "data": {
      "text/plain": "array([ 1.,  6.,  8.,  3., 10.,  4.,  2.,  5.,  9.,  7., 11., 13., 12.,\n       14., 15., 31., 20., 23., 16., 19., 24.])"
     },
     "metadata": {},
     "execution_count": 54
    }
   ],
   "source": [
    "rf['clean_pitches'] = rf['pitches']\n",
    "rf['clean_pitches'][rf['clean_pitches'].isna()] = 1"
   ]
  },
  {
   "cell_type": "code",
   "execution_count": 63,
   "metadata": {},
   "outputs": [
    {
     "output_type": "execute_result",
     "data": {
      "text/plain": "'10'"
     },
     "metadata": {},
     "execution_count": 63
    }
   ],
   "source": [
    "import itertools\n",
    "\"\".join(itertools.takewhile(str.isdigit, \"10pizzas\"))"
   ]
  },
  {
   "cell_type": "code",
   "execution_count": 78,
   "metadata": {},
   "outputs": [],
   "source": [
    "climb_digit_ratings = [\"\".join(itertools.takewhile(str.isdigit, val))\n",
    "   for val in rating_frame[rating_frame['s5'].apply(lambda x: len(x)) == 2]['s5'].str[-1] ]"
   ]
  },
  {
   "cell_type": "code",
   "execution_count": 86,
   "metadata": {},
   "outputs": [
    {
     "output_type": "execute_result",
     "data": {
      "text/plain": "               raw_rating                      s5  digit_rating\n0                   5.10a                 [, 10a]             0\n1                     5.4                   [, 4]             0\n2                    5.7+                  [, 7+]             0\n3                    5.9+                  [, 9+]             0\n4                     5.9                   [, 9]             0\n5                     5.8                   [, 8]             0\n6                    5.8+                  [, 8+]             0\n7                   5.6 R                 [, 6 R]             0\n8                     5.7                   [, 7]             0\n9                   5.11b                 [, 11b]             0\n10                   5.9-                  [, 9-]             0\n11                    5.5                   [, 5]             0\n12                    5.6                   [, 6]             0\n13              5.10b/c R             [, 10b/c R]             0\n14                 5.9+ R                [, 9+ R]             0\n15                  5.10c                 [, 10c]             0\n16                  5.11a                 [, 11a]             0\n17                  5.11c                 [, 11c]             0\n18                 5.9- R                [, 9- R]             0\n19                  5.8 R                 [, 8 R]             0\n20                  5.5 R                 [, 5 R]             0\n21                  5.3 R                 [, 3 R]             0\n22                  5.10b                 [, 10b]             0\n23                    5.0                   [, 0]             0\n24                    5.2                   [, 2]             0\n25                5.11b/c               [, 11b/c]             0\n26                  5.10-                 [, 10-]             0\n27                  5.10d                 [, 10d]             0\n28                5.10b/c               [, 10b/c]             0\n29                  5.11d                 [, 11d]             0\n..                    ...                     ...           ...\n189                 V0- R                 [V0- R]             0\n190              WI4-5 M5              [WI4-5 M5]             0\n191              5.4 PG13              [, 4 PG13]             0\n192                    M6                    [M6]             0\n193                5.8 C2                [, 8 C2]             0\n194              5.10+ C2              [, 10+ C2]             0\n195               5.10b R               [, 10b R]             0\n196           5.10b/c A0+           [, 10b/c A0+]             0\n197               5.10+ R               [, 10+ R]             0\n198         5.4 Mod. Snow         [, 4 Mod. Snow]             0\n199              5.11b C1              [, 11b C1]             0\n200  5.6 WI2 M1 Mod. Snow  [, 6 WI2 M1 Mod. Snow]             0\n201              5.9 A0 R              [, 9 A0 R]             0\n202                5.9 C1                [, 9 C1]             0\n203                5.9 C3                [, 9 C3]             0\n204                   V3-                   [V3-]             0\n205               5.4 C2+               [, 4 C2+]             0\n206                5.9 A3                [, 9 A3]             0\n207               5.8 C2+               [, 8 C2+]             0\n208                5.8 C1                [, 8 C1]             0\n209                5.7 C2                [, 7 C2]             0\n210              5.11a C3              [, 11a C3]             0\n211               5.10 A1               [, 10 A1]             0\n212            WI5-6 M5 R            [WI5-6 M5 R]             0\n213             5.10 A3 R             [, 10 A3 R]             0\n214            5.12b PG13            [, 12b PG13]             0\n215                  WI5+                  [WI5+]             0\n216               5.11+ R               [, 11+ R]             0\n217                  V2-3                  [V2-3]             0\n218              4th PG13              [4th PG13]             0\n\n[219 rows x 3 columns]",
      "text/html": "<div>\n<style scoped>\n    .dataframe tbody tr th:only-of-type {\n        vertical-align: middle;\n    }\n\n    .dataframe tbody tr th {\n        vertical-align: top;\n    }\n\n    .dataframe thead th {\n        text-align: right;\n    }\n</style>\n<table border=\"1\" class=\"dataframe\">\n  <thead>\n    <tr style=\"text-align: right;\">\n      <th></th>\n      <th>raw_rating</th>\n      <th>s5</th>\n      <th>digit_rating</th>\n    </tr>\n  </thead>\n  <tbody>\n    <tr>\n      <th>0</th>\n      <td>5.10a</td>\n      <td>[, 10a]</td>\n      <td>0</td>\n    </tr>\n    <tr>\n      <th>1</th>\n      <td>5.4</td>\n      <td>[, 4]</td>\n      <td>0</td>\n    </tr>\n    <tr>\n      <th>2</th>\n      <td>5.7+</td>\n      <td>[, 7+]</td>\n      <td>0</td>\n    </tr>\n    <tr>\n      <th>3</th>\n      <td>5.9+</td>\n      <td>[, 9+]</td>\n      <td>0</td>\n    </tr>\n    <tr>\n      <th>4</th>\n      <td>5.9</td>\n      <td>[, 9]</td>\n      <td>0</td>\n    </tr>\n    <tr>\n      <th>5</th>\n      <td>5.8</td>\n      <td>[, 8]</td>\n      <td>0</td>\n    </tr>\n    <tr>\n      <th>6</th>\n      <td>5.8+</td>\n      <td>[, 8+]</td>\n      <td>0</td>\n    </tr>\n    <tr>\n      <th>7</th>\n      <td>5.6 R</td>\n      <td>[, 6 R]</td>\n      <td>0</td>\n    </tr>\n    <tr>\n      <th>8</th>\n      <td>5.7</td>\n      <td>[, 7]</td>\n      <td>0</td>\n    </tr>\n    <tr>\n      <th>9</th>\n      <td>5.11b</td>\n      <td>[, 11b]</td>\n      <td>0</td>\n    </tr>\n    <tr>\n      <th>10</th>\n      <td>5.9-</td>\n      <td>[, 9-]</td>\n      <td>0</td>\n    </tr>\n    <tr>\n      <th>11</th>\n      <td>5.5</td>\n      <td>[, 5]</td>\n      <td>0</td>\n    </tr>\n    <tr>\n      <th>12</th>\n      <td>5.6</td>\n      <td>[, 6]</td>\n      <td>0</td>\n    </tr>\n    <tr>\n      <th>13</th>\n      <td>5.10b/c R</td>\n      <td>[, 10b/c R]</td>\n      <td>0</td>\n    </tr>\n    <tr>\n      <th>14</th>\n      <td>5.9+ R</td>\n      <td>[, 9+ R]</td>\n      <td>0</td>\n    </tr>\n    <tr>\n      <th>15</th>\n      <td>5.10c</td>\n      <td>[, 10c]</td>\n      <td>0</td>\n    </tr>\n    <tr>\n      <th>16</th>\n      <td>5.11a</td>\n      <td>[, 11a]</td>\n      <td>0</td>\n    </tr>\n    <tr>\n      <th>17</th>\n      <td>5.11c</td>\n      <td>[, 11c]</td>\n      <td>0</td>\n    </tr>\n    <tr>\n      <th>18</th>\n      <td>5.9- R</td>\n      <td>[, 9- R]</td>\n      <td>0</td>\n    </tr>\n    <tr>\n      <th>19</th>\n      <td>5.8 R</td>\n      <td>[, 8 R]</td>\n      <td>0</td>\n    </tr>\n    <tr>\n      <th>20</th>\n      <td>5.5 R</td>\n      <td>[, 5 R]</td>\n      <td>0</td>\n    </tr>\n    <tr>\n      <th>21</th>\n      <td>5.3 R</td>\n      <td>[, 3 R]</td>\n      <td>0</td>\n    </tr>\n    <tr>\n      <th>22</th>\n      <td>5.10b</td>\n      <td>[, 10b]</td>\n      <td>0</td>\n    </tr>\n    <tr>\n      <th>23</th>\n      <td>5.0</td>\n      <td>[, 0]</td>\n      <td>0</td>\n    </tr>\n    <tr>\n      <th>24</th>\n      <td>5.2</td>\n      <td>[, 2]</td>\n      <td>0</td>\n    </tr>\n    <tr>\n      <th>25</th>\n      <td>5.11b/c</td>\n      <td>[, 11b/c]</td>\n      <td>0</td>\n    </tr>\n    <tr>\n      <th>26</th>\n      <td>5.10-</td>\n      <td>[, 10-]</td>\n      <td>0</td>\n    </tr>\n    <tr>\n      <th>27</th>\n      <td>5.10d</td>\n      <td>[, 10d]</td>\n      <td>0</td>\n    </tr>\n    <tr>\n      <th>28</th>\n      <td>5.10b/c</td>\n      <td>[, 10b/c]</td>\n      <td>0</td>\n    </tr>\n    <tr>\n      <th>29</th>\n      <td>5.11d</td>\n      <td>[, 11d]</td>\n      <td>0</td>\n    </tr>\n    <tr>\n      <th>...</th>\n      <td>...</td>\n      <td>...</td>\n      <td>...</td>\n    </tr>\n    <tr>\n      <th>189</th>\n      <td>V0- R</td>\n      <td>[V0- R]</td>\n      <td>0</td>\n    </tr>\n    <tr>\n      <th>190</th>\n      <td>WI4-5 M5</td>\n      <td>[WI4-5 M5]</td>\n      <td>0</td>\n    </tr>\n    <tr>\n      <th>191</th>\n      <td>5.4 PG13</td>\n      <td>[, 4 PG13]</td>\n      <td>0</td>\n    </tr>\n    <tr>\n      <th>192</th>\n      <td>M6</td>\n      <td>[M6]</td>\n      <td>0</td>\n    </tr>\n    <tr>\n      <th>193</th>\n      <td>5.8 C2</td>\n      <td>[, 8 C2]</td>\n      <td>0</td>\n    </tr>\n    <tr>\n      <th>194</th>\n      <td>5.10+ C2</td>\n      <td>[, 10+ C2]</td>\n      <td>0</td>\n    </tr>\n    <tr>\n      <th>195</th>\n      <td>5.10b R</td>\n      <td>[, 10b R]</td>\n      <td>0</td>\n    </tr>\n    <tr>\n      <th>196</th>\n      <td>5.10b/c A0+</td>\n      <td>[, 10b/c A0+]</td>\n      <td>0</td>\n    </tr>\n    <tr>\n      <th>197</th>\n      <td>5.10+ R</td>\n      <td>[, 10+ R]</td>\n      <td>0</td>\n    </tr>\n    <tr>\n      <th>198</th>\n      <td>5.4 Mod. Snow</td>\n      <td>[, 4 Mod. Snow]</td>\n      <td>0</td>\n    </tr>\n    <tr>\n      <th>199</th>\n      <td>5.11b C1</td>\n      <td>[, 11b C1]</td>\n      <td>0</td>\n    </tr>\n    <tr>\n      <th>200</th>\n      <td>5.6 WI2 M1 Mod. Snow</td>\n      <td>[, 6 WI2 M1 Mod. Snow]</td>\n      <td>0</td>\n    </tr>\n    <tr>\n      <th>201</th>\n      <td>5.9 A0 R</td>\n      <td>[, 9 A0 R]</td>\n      <td>0</td>\n    </tr>\n    <tr>\n      <th>202</th>\n      <td>5.9 C1</td>\n      <td>[, 9 C1]</td>\n      <td>0</td>\n    </tr>\n    <tr>\n      <th>203</th>\n      <td>5.9 C3</td>\n      <td>[, 9 C3]</td>\n      <td>0</td>\n    </tr>\n    <tr>\n      <th>204</th>\n      <td>V3-</td>\n      <td>[V3-]</td>\n      <td>0</td>\n    </tr>\n    <tr>\n      <th>205</th>\n      <td>5.4 C2+</td>\n      <td>[, 4 C2+]</td>\n      <td>0</td>\n    </tr>\n    <tr>\n      <th>206</th>\n      <td>5.9 A3</td>\n      <td>[, 9 A3]</td>\n      <td>0</td>\n    </tr>\n    <tr>\n      <th>207</th>\n      <td>5.8 C2+</td>\n      <td>[, 8 C2+]</td>\n      <td>0</td>\n    </tr>\n    <tr>\n      <th>208</th>\n      <td>5.8 C1</td>\n      <td>[, 8 C1]</td>\n      <td>0</td>\n    </tr>\n    <tr>\n      <th>209</th>\n      <td>5.7 C2</td>\n      <td>[, 7 C2]</td>\n      <td>0</td>\n    </tr>\n    <tr>\n      <th>210</th>\n      <td>5.11a C3</td>\n      <td>[, 11a C3]</td>\n      <td>0</td>\n    </tr>\n    <tr>\n      <th>211</th>\n      <td>5.10 A1</td>\n      <td>[, 10 A1]</td>\n      <td>0</td>\n    </tr>\n    <tr>\n      <th>212</th>\n      <td>WI5-6 M5 R</td>\n      <td>[WI5-6 M5 R]</td>\n      <td>0</td>\n    </tr>\n    <tr>\n      <th>213</th>\n      <td>5.10 A3 R</td>\n      <td>[, 10 A3 R]</td>\n      <td>0</td>\n    </tr>\n    <tr>\n      <th>214</th>\n      <td>5.12b PG13</td>\n      <td>[, 12b PG13]</td>\n      <td>0</td>\n    </tr>\n    <tr>\n      <th>215</th>\n      <td>WI5+</td>\n      <td>[WI5+]</td>\n      <td>0</td>\n    </tr>\n    <tr>\n      <th>216</th>\n      <td>5.11+ R</td>\n      <td>[, 11+ R]</td>\n      <td>0</td>\n    </tr>\n    <tr>\n      <th>217</th>\n      <td>V2-3</td>\n      <td>[V2-3]</td>\n      <td>0</td>\n    </tr>\n    <tr>\n      <th>218</th>\n      <td>4th PG13</td>\n      <td>[4th PG13]</td>\n      <td>0</td>\n    </tr>\n  </tbody>\n</table>\n<p>219 rows × 3 columns</p>\n</div>"
     },
     "metadata": {},
     "execution_count": 86
    }
   ],
   "source": [
    "rating_frame"
   ]
  },
  {
   "cell_type": "code",
   "execution_count": null,
   "metadata": {},
   "outputs": [],
   "source": []
  }
 ]
}