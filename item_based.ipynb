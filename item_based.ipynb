{
 "nbformat": 4,
 "nbformat_minor": 2,
 "metadata": {
  "language_info": {
   "name": "python",
   "codemirror_mode": {
    "name": "ipython",
    "version": 3
   },
   "version": "3.6.6-final"
  },
  "orig_nbformat": 2,
  "file_extension": ".py",
  "mimetype": "text/x-python",
  "name": "python",
  "npconvert_exporter": "python",
  "pygments_lexer": "ipython3",
  "version": 3,
  "kernelspec": {
   "name": "python36664bit366pyenv0fef8eb0ab9a48ec9e2ec6fcfa8e299c",
   "display_name": "Python 3.6.6 64-bit ('3.6.6': pyenv)"
  }
 },
 "cells": [
  {
   "cell_type": "code",
   "execution_count": 3,
   "metadata": {},
   "outputs": [],
   "source": [
    "%load_ext autoreload\n",
    "%autoreload 2\n",
    "import numpy as np\n",
    "from src import GetUserClimbData as gud\n",
    "from src import AssesItemBased as assess\n",
    "from src.UserClimbCollaborativeFiltering import pairwise_pearson_correlation\n",
    "from sklearn.metrics.pairwise import pairwise_distances, cosine_similarity\n",
    "import pandas as pd"
   ]
  },
  {
   "cell_type": "code",
   "execution_count": 4,
   "metadata": {},
   "outputs": [],
   "source": []
  },
  {
   "cell_type": "code",
   "execution_count": 7,
   "metadata": {},
   "outputs": [
    {
     "output_type": "execute_result",
     "data": {
      "text/plain": "(3590, 6)"
     },
     "metadata": {},
     "execution_count": 7
    }
   ],
   "source": [
    "number_cols = ['id','latitude','longitude','clean_pitches','clean_rating','mean_type_ord']\n",
    "route_feats[number_cols].shape"
   ]
  },
  {
   "cell_type": "code",
   "execution_count": 2,
   "metadata": {},
   "outputs": [],
   "source": [
    "uid_path = './user_ids/uids.csv'\n",
    "user_data = gud.get_users_climbs(uid_path)\n",
    "user_data_idx = user_data.set_index('user_id')"
   ]
  },
  {
   "cell_type": "code",
   "execution_count": 3,
   "metadata": {},
   "outputs": [],
   "source": [
    "route_data = user_data.T  \n",
    "route_data = route_data.drop(labels='user_id', axis=0)\n",
    ""
   ]
  },
  {
   "cell_type": "code",
   "execution_count": 78,
   "metadata": {
    "tags": [
     "outputPrepend"
    ]
   },
   "outputs": [],
   "source": [
    "test_split = user_data_idx[:6]\n",
    "train_split = user_data_idx[6:]\n",
    "        \n",
    "held_out_routes, test_trim = assess.trim_routes(test_split,0.2)\n",
    "train_held_out = train_split.append(test_trim)"
   ]
  },
  {
   "cell_type": "code",
   "execution_count": 5,
   "metadata": {},
   "outputs": [],
   "source": [
    "cos_sim = cosine_similarity(route_data)\n",
    "corr_sim = pairwise_distances(X=route_data.values,metric='correlation',n_jobs=6)\n",
    "jacc_sim = pairwise_distances(X=route_data.values,metric='jaccard',n_jobs=6)"
   ]
  },
  {
   "cell_type": "code",
   "execution_count": 47,
   "metadata": {},
   "outputs": [],
   "source": [
    "assess.test_folds(user_data_idx,cos_sim,folds=5,name='cos_20_',cutoff=20)"
   ]
  },
  {
   "cell_type": "code",
   "execution_count": 48,
   "metadata": {},
   "outputs": [],
   "source": [
    "metrics = assess.run_eval('cos_20_',5)\n",
    "full_name = 'item_based_cos_sim_cutoff_20'\n",
    "mf = pd.DataFrame([metrics[1]+[full_name]],columns=metrics[0]+['name'])\n",
    "mf.to_csv('./analyze/{}.csv'.format(full_name),index=False)"
   ]
  },
  {
   "cell_type": "code",
   "execution_count": 49,
   "metadata": {},
   "outputs": [
    {
     "output_type": "execute_result",
     "data": {
      "text/plain": "   Mean num_ret  Std num_ret  Mean num_rel  Std num_rel  Mean num_rel_ret  \\\n0         120.0          0.0           8.8      6.04649               0.0   \n\n   Std num_rel_ret  Mean num_unjug_ret@20  Std num_unjug_ret@20  Mean map  \\\n0              0.0                  120.0                   0.0       0.0   \n\n   Std map              ...               Std P30  Mean P100  Std P100  \\\n0      0.0              ...                   0.0        0.0       0.0   \n\n   Mean P200  Std P200  Mean P500  Std P500  Mean P1000  Std P1000  \\\n0        0.0       0.0        0.0       0.0         0.0        0.0   \n\n                           name  \n0  item_based_cos_sim_cutoff_20  \n\n[1 rows x 49 columns]",
      "text/html": "<div>\n<style scoped>\n    .dataframe tbody tr th:only-of-type {\n        vertical-align: middle;\n    }\n\n    .dataframe tbody tr th {\n        vertical-align: top;\n    }\n\n    .dataframe thead th {\n        text-align: right;\n    }\n</style>\n<table border=\"1\" class=\"dataframe\">\n  <thead>\n    <tr style=\"text-align: right;\">\n      <th></th>\n      <th>Mean num_ret</th>\n      <th>Std num_ret</th>\n      <th>Mean num_rel</th>\n      <th>Std num_rel</th>\n      <th>Mean num_rel_ret</th>\n      <th>Std num_rel_ret</th>\n      <th>Mean num_unjug_ret@20</th>\n      <th>Std num_unjug_ret@20</th>\n      <th>Mean map</th>\n      <th>Std map</th>\n      <th>...</th>\n      <th>Std P30</th>\n      <th>Mean P100</th>\n      <th>Std P100</th>\n      <th>Mean P200</th>\n      <th>Std P200</th>\n      <th>Mean P500</th>\n      <th>Std P500</th>\n      <th>Mean P1000</th>\n      <th>Std P1000</th>\n      <th>name</th>\n    </tr>\n  </thead>\n  <tbody>\n    <tr>\n      <th>0</th>\n      <td>120.0</td>\n      <td>0.0</td>\n      <td>8.8</td>\n      <td>6.04649</td>\n      <td>0.0</td>\n      <td>0.0</td>\n      <td>120.0</td>\n      <td>0.0</td>\n      <td>0.0</td>\n      <td>0.0</td>\n      <td>...</td>\n      <td>0.0</td>\n      <td>0.0</td>\n      <td>0.0</td>\n      <td>0.0</td>\n      <td>0.0</td>\n      <td>0.0</td>\n      <td>0.0</td>\n      <td>0.0</td>\n      <td>0.0</td>\n      <td>item_based_cos_sim_cutoff_20</td>\n    </tr>\n  </tbody>\n</table>\n<p>1 rows × 49 columns</p>\n</div>"
     },
     "metadata": {},
     "execution_count": 49
    }
   ],
   "source": [
    "mf"
   ]
  },
  {
   "cell_type": "code",
   "execution_count": 27,
   "metadata": {},
   "outputs": [],
   "source": [
    "assess.test_folds(user_data_idx,cos_sim,5,'cos_20_',10)\n",
    "metrics = assess.run_eval('cos_10_',5)\n",
    "mf = pd.DataFrame([metrics[1]],columns=metrics[0])\n",
    "mf.to_csv('./analyze/item_based_cos_sim_cutoff_10.csv',index=False)"
   ]
  },
  {
   "cell_type": "code",
   "execution_count": 25,
   "metadata": {},
   "outputs": [],
   "source": [
    "assess.test_folds(user_data_idx,corr_sim,5,'corr_',20)\n",
    "metrics = assess.run_eval('corr_',5)\n",
    "mf = pd.DataFrame([metrics[1]],columns=metrics[0])\n",
    "mf.to_csv('./analyze/item_based_corr_sim_cutoff_20.csv',index=False)"
   ]
  },
  {
   "cell_type": "code",
   "execution_count": 26,
   "metadata": {},
   "outputs": [],
   "source": [
    "assess.test_folds(user_data_idx,jacc_sim,5,'jacc_',20)\n",
    "metrics = assess.run_eval('jacc_',5)\n",
    "mf = pd.DataFrame([metrics[1]],columns=metrics[0])\n",
    "mf.to_csv('./analyze/item_based_jacc_sim_cutoff_20.csv',index=False)"
   ]
  },
  {
   "cell_type": "code",
   "execution_count": 28,
   "metadata": {},
   "outputs": [],
   "source": [
    "user_data_avg = gud.get_users_climbs(uid_path)\n",
    "user_data_avg_idx = user_data_avg.set_index('user_id')"
   ]
  },
  {
   "cell_type": "code",
   "execution_count": 31,
   "metadata": {},
   "outputs": [],
   "source": [
    "route_data_avg = user_data_avg.T  \n",
    "route_data_avg = route_data_avg.drop(labels='user_id', axis=0)"
   ]
  },
  {
   "cell_type": "code",
   "execution_count": 32,
   "metadata": {},
   "outputs": [],
   "source": [
    "cos_sim_avg = cosine_similarity(route_data_avg)\n",
    "corr_sim_avg = pairwise_distances(X=route_data_avg.values,metric='correlation',n_jobs=6)\n",
    "jacc_sim_avg = pairwise_distances(X=route_data_avg.values,metric='jaccard',n_jobs=6)"
   ]
  },
  {
   "cell_type": "code",
   "execution_count": 34,
   "metadata": {},
   "outputs": [],
   "source": [
    "assess.test_folds(user_data_avg_idx,cos_sim_avg,5,'avg_cos_10_',10)\n",
    "metrics = assess.run_eval('avg_cos_10_',5)\n",
    "mf = pd.DataFrame([metrics[1]],columns=metrics[0])\n",
    "mf.to_csv('./analyze/item_based_avg_rating_cos_sim_cutoff_10.csv',index=False)"
   ]
  },
  {
   "cell_type": "code",
   "execution_count": 35,
   "metadata": {},
   "outputs": [],
   "source": [
    "assess.test_folds(user_data_avg_idx,cos_sim_avg,5,'avg_cos_20_',20)\n",
    "metrics = assess.run_eval('avg_cos_20_',5)\n",
    "mf = pd.DataFrame([metrics[1]],columns=metrics[0])\n",
    "mf.to_csv('./analyze/item_based_avg_rating_cos_sim_cutoff_20.csv',index=False)"
   ]
  },
  {
   "cell_type": "code",
   "execution_count": 26,
   "metadata": {},
   "outputs": [],
   "source": [
    "from src import RequestMPData as rmp\n",
    "from src import RecPopular as rp\n",
    ""
   ]
  },
  {
   "cell_type": "code",
   "execution_count": 45,
   "metadata": {},
   "outputs": [
    {
     "output_type": "execute_result",
     "data": {
      "text/plain": "   Mean MAP  Std MAP  Mean NDCG10  Std NDCG10\n0     0.006   0.0053       0.1408      0.0486",
      "text/html": "<div>\n<style scoped>\n    .dataframe tbody tr th:only-of-type {\n        vertical-align: middle;\n    }\n\n    .dataframe tbody tr th {\n        vertical-align: top;\n    }\n\n    .dataframe thead th {\n        text-align: right;\n    }\n</style>\n<table border=\"1\" class=\"dataframe\">\n  <thead>\n    <tr style=\"text-align: right;\">\n      <th></th>\n      <th>Mean MAP</th>\n      <th>Std MAP</th>\n      <th>Mean NDCG10</th>\n      <th>Std NDCG10</th>\n    </tr>\n  </thead>\n  <tbody>\n    <tr>\n      <th>0</th>\n      <td>0.006</td>\n      <td>0.0053</td>\n      <td>0.1408</td>\n      <td>0.0486</td>\n    </tr>\n  </tbody>\n</table>\n</div>"
     },
     "metadata": {},
     "execution_count": 45
    }
   ],
   "source": [
    "pd.DataFrame([metrics[1]],columns=metrics[0])"
   ]
  },
  {
   "cell_type": "code",
   "execution_count": 48,
   "metadata": {},
   "outputs": [
    {
     "output_type": "execute_result",
     "data": {
      "text/plain": "   Mean MAP  Std MAP  Mean NDCG10  Std NDCG10  starWeight  voteWeight\n0   0.00888  0.00881      0.13238     0.07430          10         0.5\n0   0.00700  0.00500      0.13309     0.10394          10         1.0\n0   0.00650  0.00473      0.17601     0.08987          10         2.0\n0   0.00467  0.00239      0.13963     0.05867          50         0.5\n0   0.00399  0.00171      0.15351     0.08641          50         1.0\n0   0.00513  0.00659      0.12775     0.04932          50         2.0\n0   0.00588  0.00474      0.13152     0.08002         100         0.5\n0   0.00435  0.00289      0.16357     0.07748         100         1.0\n0   0.00346  0.00147      0.14389     0.11204         100         2.0",
      "text/html": "<div>\n<style scoped>\n    .dataframe tbody tr th:only-of-type {\n        vertical-align: middle;\n    }\n\n    .dataframe tbody tr th {\n        vertical-align: top;\n    }\n\n    .dataframe thead th {\n        text-align: right;\n    }\n</style>\n<table border=\"1\" class=\"dataframe\">\n  <thead>\n    <tr style=\"text-align: right;\">\n      <th></th>\n      <th>Mean MAP</th>\n      <th>Std MAP</th>\n      <th>Mean NDCG10</th>\n      <th>Std NDCG10</th>\n      <th>starWeight</th>\n      <th>voteWeight</th>\n    </tr>\n  </thead>\n  <tbody>\n    <tr>\n      <th>0</th>\n      <td>0.00888</td>\n      <td>0.00881</td>\n      <td>0.13238</td>\n      <td>0.07430</td>\n      <td>10</td>\n      <td>0.5</td>\n    </tr>\n    <tr>\n      <th>0</th>\n      <td>0.00700</td>\n      <td>0.00500</td>\n      <td>0.13309</td>\n      <td>0.10394</td>\n      <td>10</td>\n      <td>1.0</td>\n    </tr>\n    <tr>\n      <th>0</th>\n      <td>0.00650</td>\n      <td>0.00473</td>\n      <td>0.17601</td>\n      <td>0.08987</td>\n      <td>10</td>\n      <td>2.0</td>\n    </tr>\n    <tr>\n      <th>0</th>\n      <td>0.00467</td>\n      <td>0.00239</td>\n      <td>0.13963</td>\n      <td>0.05867</td>\n      <td>50</td>\n      <td>0.5</td>\n    </tr>\n    <tr>\n      <th>0</th>\n      <td>0.00399</td>\n      <td>0.00171</td>\n      <td>0.15351</td>\n      <td>0.08641</td>\n      <td>50</td>\n      <td>1.0</td>\n    </tr>\n    <tr>\n      <th>0</th>\n      <td>0.00513</td>\n      <td>0.00659</td>\n      <td>0.12775</td>\n      <td>0.04932</td>\n      <td>50</td>\n      <td>2.0</td>\n    </tr>\n    <tr>\n      <th>0</th>\n      <td>0.00588</td>\n      <td>0.00474</td>\n      <td>0.13152</td>\n      <td>0.08002</td>\n      <td>100</td>\n      <td>0.5</td>\n    </tr>\n    <tr>\n      <th>0</th>\n      <td>0.00435</td>\n      <td>0.00289</td>\n      <td>0.16357</td>\n      <td>0.07748</td>\n      <td>100</td>\n      <td>1.0</td>\n    </tr>\n    <tr>\n      <th>0</th>\n      <td>0.00346</td>\n      <td>0.00147</td>\n      <td>0.14389</td>\n      <td>0.11204</td>\n      <td>100</td>\n      <td>2.0</td>\n    </tr>\n  </tbody>\n</table>\n</div>"
     },
     "metadata": {},
     "execution_count": 48
    }
   ],
   "source": [
    "mf = rp.paralell_pop(user_data_idx,[10,50,100],[0.5,1,2])\n",
    "mf"
   ]
  },
  {
   "cell_type": "code",
   "execution_count": null,
   "metadata": {},
   "outputs": [],
   "source": []
  }
 ]
}