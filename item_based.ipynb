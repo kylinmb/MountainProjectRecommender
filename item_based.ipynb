{
 "nbformat": 4,
 "nbformat_minor": 2,
 "metadata": {
  "language_info": {
   "name": "python",
   "codemirror_mode": {
    "name": "ipython",
    "version": 3
   },
   "version": "3.6.6-final"
  },
  "orig_nbformat": 2,
  "file_extension": ".py",
  "mimetype": "text/x-python",
  "name": "python",
  "npconvert_exporter": "python",
  "pygments_lexer": "ipython3",
  "version": 3,
  "kernelspec": {
   "name": "python36664bit366pyenv0fef8eb0ab9a48ec9e2ec6fcfa8e299c",
   "display_name": "Python 3.6.6 64-bit ('3.6.6': pyenv)"
  }
 },
 "cells": [
  {
   "cell_type": "code",
   "execution_count": 1,
   "metadata": {},
   "outputs": [],
   "source": [
    "%load_ext autoreload\n",
    "%autoreload 2\n",
    "import numpy as np\n",
    "from src import GetUserClimbData as gud\n",
    "from src import AssesItemBased as assess\n",
    "from sklearn.metrics.pairwise import cosine_similarity"
   ]
  },
  {
   "cell_type": "code",
   "execution_count": 2,
   "metadata": {},
   "outputs": [],
   "source": [
    "uid_path = './user_ids/uids.csv'\n",
    "user_data = gud.get_users_climbs(uid_path)\n",
    "user_data_idx = user_data.set_index('user_id')\n",
    "# route_data = star_data.T  \n",
    "# route_data = route_data.drop(labels='user_id', axis=0)\n",
    "# cs_sim = cosine_similarity(route_data)"
   ]
  },
  {
   "cell_type": "code",
   "execution_count": 4,
   "metadata": {},
   "outputs": [],
   "source": [
    "route_data = user_data.T  \n",
    "route_data = route_data.drop(labels='user_id', axis=0)\n",
    "cs_sim = cosine_similarity(route_data)\n",
    ""
   ]
  },
  {
   "cell_type": "code",
   "execution_count": 77,
   "metadata": {},
   "outputs": [
    {
     "output_type": "execute_result",
     "data": {
      "text/plain": "((6, 3590), (24, 3590))"
     },
     "metadata": {},
     "execution_count": 77
    }
   ],
   "source": [
    "test_split = user_data_idx[:6]\n",
    "train_split = user_data_idx[6:]\n",
    "test_split.shape, train_split.shape"
   ]
  },
  {
   "cell_type": "code",
   "execution_count": 83,
   "metadata": {},
   "outputs": [
    {
     "output_type": "execute_result",
     "data": {
      "text/plain": "(30, 3590)"
     },
     "metadata": {},
     "execution_count": 83
    }
   ],
   "source": [
    "held_out_routes, test_trim = assess.trim_routes(test_split,0.2)\n",
    "train_held_out = train_split.append(test_trim)\n",
    "train_held_out.shape"
   ]
  },
  {
   "cell_type": "code",
   "execution_count": 46,
   "metadata": {},
   "outputs": [],
   "source": [
    "recs_fold_1 = assess.get_predictions(\n",
    "    train_held_out,\n",
    "    test_split,\n",
    "    train_held_out.T,\n",
    "    cs_sim)"
   ]
  },
  {
   "cell_type": "code",
   "execution_count": 68,
   "metadata": {},
   "outputs": [],
   "source": [
    "judge, base = assess.format_for_galago(recs_fold_1,held_out_routes)\n",
    "assess.export_data(judge,base,1)"
   ]
  },
  {
   "cell_type": "markdown",
   "metadata": {},
   "source": []
  },
  {
   "cell_type": "code",
   "execution_count": 6,
   "metadata": {},
   "outputs": [],
   "source": [
    "assess.test_folds(user_data_idx,cs_sim,5)"
   ]
  },
  {
   "cell_type": "code",
   "execution_count": 28,
   "metadata": {},
   "outputs": [],
   "source": [
    "metrics = assess.run_eval(5)"
   ]
  },
  {
   "cell_type": "code",
   "execution_count": 29,
   "metadata": {},
   "outputs": [
    {
     "output_type": "execute_result",
     "data": {
      "text/plain": "[[('MAP', '0.58210'), ('NDCG10', '0.99518')],\n [('MAP', '0.71366'), ('NDCG10', '0.99041')],\n [('MAP', '0.50101'), ('NDCG10', '0.98924')],\n [('MAP', '0.47236'), ('NDCG10', '0.98504')],\n [('MAP', '0.56327'), ('NDCG10', '0.98641')]]"
     },
     "metadata": {},
     "execution_count": 29
    }
   ],
   "source": [
    "metrics"
   ]
  },
  {
   "cell_type": "code",
   "execution_count": 37,
   "metadata": {},
   "outputs": [],
   "source": [
    "names = np.array(metrics).T[0]\n",
    "vals = np.array(metrics).T[1]"
   ]
  },
  {
   "cell_type": "code",
   "execution_count": 42,
   "metadata": {},
   "outputs": [
    {
     "output_type": "stream",
     "name": "stdout",
     "text": "MAP\n[0.5821  0.71366 0.50101 0.47236 0.56327]\nNDCG10\n[0.99518 0.99041 0.98924 0.98504 0.98641]\n"
    }
   ],
   "source": [
    "for i,metric in enumerate(names):\n",
    "    print(metric[0],'on',folds,'folds')\n",
    "    print('mean ',np.mean(vals[i].astype(float)))\n",
    "    print('std ',np.mean(vals[i].astype(float)))"
   ]
  },
  {
   "cell_type": "code",
   "execution_count": null,
   "metadata": {},
   "outputs": [],
   "source": []
  }
 ]
}