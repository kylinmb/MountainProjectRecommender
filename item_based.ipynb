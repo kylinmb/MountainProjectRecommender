{
 "nbformat": 4,
 "nbformat_minor": 2,
 "metadata": {
  "language_info": {
   "name": "python",
   "codemirror_mode": {
    "name": "ipython",
    "version": 3
   },
   "version": "3.6.6-final"
  },
  "orig_nbformat": 2,
  "file_extension": ".py",
  "mimetype": "text/x-python",
  "name": "python",
  "npconvert_exporter": "python",
  "pygments_lexer": "ipython3",
  "version": 3,
  "kernelspec": {
   "name": "python36664bit366pyenv0fef8eb0ab9a48ec9e2ec6fcfa8e299c",
   "display_name": "Python 3.6.6 64-bit ('3.6.6': pyenv)"
  }
 },
 "cells": [
  {
   "cell_type": "code",
   "execution_count": 1,
   "metadata": {},
   "outputs": [],
   "source": [
    "%load_ext autoreload\n",
    "%autoreload 2\n",
    "import numpy as np\n",
    "from src import GetUserClimbData as gud\n",
    "from src import AssesItemBased as assess\n",
    "from sklearn.metrics.pairwise import cosine_similarity"
   ]
  },
  {
   "cell_type": "code",
   "execution_count": 2,
   "metadata": {},
   "outputs": [],
   "source": [
    "uid_path = './user_ids/uids.csv'\n",
    "user_data = gud.get_users_climbs(uid_path)\n",
    "user_data_idx = user_data.set_index('user_id')\n",
    "# route_data = star_data.T  \n",
    "# route_data = route_data.drop(labels='user_id', axis=0)\n",
    "# cs_sim = cosine_similarity(route_data)"
   ]
  },
  {
   "cell_type": "code",
   "execution_count": 3,
   "metadata": {},
   "outputs": [],
   "source": [
    "route_data = user_data.T  \n",
    "route_data = route_data.drop(labels='user_id', axis=0)\n",
    "cs_sim = cosine_similarity(route_data)\n",
    ""
   ]
  },
  {
   "cell_type": "code",
   "execution_count": 4,
   "metadata": {},
   "outputs": [],
   "source": [
    "assess.test_folds(user_data_idx,cs_sim,5)"
   ]
  },
  {
   "cell_type": "code",
   "execution_count": 7,
   "metadata": {},
   "outputs": [
    {
     "output_type": "stream",
     "name": "stdout",
     "text": "MAP on 5 folds 0.6145 +/- 0.0591\nNDCG10 on 5 folds 0.9969 +/- 0.0023\n"
    }
   ],
   "source": [
    "metrics = assess.run_eval('',5)"
   ]
  },
  {
   "cell_type": "code",
   "execution_count": 106,
   "metadata": {},
   "outputs": [],
   "source": [
    "from src import RequestMPData as rmp\n",
    "from src import RecPopular as rp\n"
   ]
  },
  {
   "cell_type": "code",
   "execution_count": null,
   "metadata": {},
   "outputs": [],
   "source": [
    "def run_pop(user_data,starWeight,starVotes):\n",
    "    rf = pd.read_csv('./data/route_data.csv')rp.recaterate_popular_climbs()rf,m,10starstarWeight,stastarVotes\n",
    "    rp.ttest_folds_pop(user_data,pop_climbs,5)\n",
    "    assess.run_eval('popular_',5)"
   ]
  },
  {
   "cell_type": "code",
   "execution_count": null,
   "metadata": {},
   "outputs": [],
   "source": []
  }
 ]
}