{
 "nbformat": 4,
 "nbformat_minor": 2,
 "metadata": {
  "language_info": {
   "name": "python",
   "codemirror_mode": {
    "name": "ipython",
    "version": 3
   },
   "version": "3.6.6-final"
  },
  "orig_nbformat": 2,
  "file_extension": ".py",
  "mimetype": "text/x-python",
  "name": "python",
  "npconvert_exporter": "python",
  "pygments_lexer": "ipython3",
  "version": 3,
  "kernelspec": {
   "name": "python36664bit366pyenv0fef8eb0ab9a48ec9e2ec6fcfa8e299c",
   "display_name": "Python 3.6.6 64-bit ('3.6.6': pyenv)"
  }
 },
 "cells": [
  {
   "cell_type": "code",
   "execution_count": 36,
   "metadata": {},
   "outputs": [
    {
     "output_type": "stream",
     "name": "stdout",
     "text": "The autoreload extension is already loaded. To reload it, use:\n  %reload_ext autoreload\n"
    }
   ],
   "source": [
    "%load_ext autoreload\n",
    "%autoreload 2\n",
    "import numpy as np\n",
    "from src import GetUserClimbData as gud\n",
    "from src import AssesItemBased as assess\n",
    "from sklearn.metrics.pairwise import cosine_similarity"
   ]
  },
  {
   "cell_type": "code",
   "execution_count": 11,
   "metadata": {},
   "outputs": [],
   "source": [
    "uid_path = './user_ids/uids.csv'\n",
    "user_data = gud.get_users_climbs(uid_path)\n",
    "user_data_idx = user_data.set_index('user_id')\n",
    "# route_data = star_data.T  \n",
    "# route_data = route_data.drop(labels='user_id', axis=0)\n",
    "# cs_sim = cosine_similarity(route_data)"
   ]
  },
  {
   "cell_type": "code",
   "execution_count": 19,
   "metadata": {},
   "outputs": [],
   "source": [
    "route_data = user_data.T  \n",
    "route_data = route_data.drop(labels='user_id', axis=0)\n",
    "cs_sim = cosine_similarity(route_data)\n"
   ]
  },
  {
   "cell_type": "code",
   "execution_count": 24,
   "metadata": {},
   "outputs": [
    {
     "output_type": "execute_result",
     "data": {
      "text/plain": "((6, 3590), (24, 3590))"
     },
     "metadata": {},
     "execution_count": 24
    }
   ],
   "source": [
    "test_split = user_data_idx[:6]\n",
    "train_split = user_data_idx[6:]\n",
    "test_split.shape, train_split.shape"
   ]
  },
  {
   "cell_type": "code",
   "execution_count": 42,
   "metadata": {},
   "outputs": [
    {
     "output_type": "execute_result",
     "data": {
      "text/plain": "(30, 3590)"
     },
     "metadata": {},
     "execution_count": 42
    }
   ],
   "source": [
    "held_out_routes, test_trim = assess.trim_routes(test_split,0.2)\n",
    "train_held_out = train_split.append(test_trim)\n",
    "train_held_out.shape"
   ]
  },
  {
   "cell_type": "code",
   "execution_count": 46,
   "metadata": {},
   "outputs": [],
   "source": [
    "recs_fold_1 = assess.get_predictions(\n",
    "    train_held_out,\n",
    "    test_split,\n",
    "    train_held_out.T,\n",
    "    cs_sim)"
   ]
  },
  {
   "cell_type": "code",
   "execution_count": 56,
   "metadata": {},
   "outputs": [
    {
     "output_type": "stream",
     "name": "stdout",
     "text": "0.26909167221667224\n0.04854457726030626\n0.10032542924146753\n0.07890671679064626\n0.11368289184110006\n0.08304354801501328\n"
    },
    {
     "output_type": "execute_result",
     "data": {
      "text/plain": "0.11559913922753427"
     },
     "metadata": {},
     "execution_count": 56
    }
   ],
   "source": [
    "assess.calc_map(recs_fold_1,held_out_routes,test_split)"
   ]
  },
  {
   "cell_type": "code",
   "execution_count": 67,
   "metadata": {},
   "outputs": [],
   "source": [
    "judge, base = assess.format_for_galago(recs_fold_1,held_out_routes)\n",
    "assess.export_data(judge,base,1)"
   ]
  },
  {
   "cell_type": "markdown",
   "metadata": {},
   "source": []
  },
  {
   "cell_type": "code",
   "execution_count": 66,
   "metadata": {},
   "outputs": [
    {
     "output_type": "execute_result",
     "data": {
      "text/plain": "['105750112 0 106503119 1 27.9276',\n '106228490 0 106503119 1 27.9276',\n '106590813 0 106503119 1 27.9276',\n '105793864 0 106503119 1 27.9276',\n '109639920 0 106503119 1 27.9276',\n '106926010 0 106503119 1 27.9276',\n '105762414 0 106503119 1 27.9276',\n '106538566 0 106503119 1 27.9276',\n '105762411 0 106503119 1 27.9276',\n '106858564 0 106503119 1 27.9276',\n '106900839 0 106503119 1 27.9276',\n '106891377 0 106503119 1 27.9276',\n '105748050 0 106503119 1 27.9276',\n '105985613 0 106503119 1 27.9276',\n '105850436 0 106503119 1 27.9276',\n '105863136 0 106503119 1 27.9276',\n '105763875 0 106503119 1 27.9276',\n '105748556 0 106503119 1 27.9276',\n '105748529 0 106503119 1 27.9276',\n '105753172 0 106503119 1 27.9276',\n '111850835 0 106503119 1 27.9276',\n '105760938 0 106503119 1 27.9276',\n '105756925 0 106503119 1 27.9276',\n '105756799 0 106503119 2 27.3126',\n '105750154 0 106503119 3 27.1525',\n '105749188 0 106503119 4 26.6781',\n '105750013 0 106503119 5 26.5835',\n '105748951 0 106503119 6 26.4944',\n '105748954 0 106503119 7 26.3304',\n '105752350 0 106503119 8 25.6269']"
     },
     "metadata": {},
     "execution_count": 66
    }
   ],
   "source": [
    "base[:30]"
   ]
  },
  {
   "cell_type": "code",
   "execution_count": null,
   "metadata": {},
   "outputs": [],
   "source": []
  }
 ]
}